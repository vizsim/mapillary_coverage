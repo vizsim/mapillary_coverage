{
 "cells": [
  {
   "cell_type": "code",
   "execution_count": 3,
   "id": "fe3c8c5a",
   "metadata": {},
   "outputs": [],
   "source": [
    "import os\n",
    "import requests\n",
    "import subprocess\n",
    "\n",
    "#from pyrosm import OSM\n",
    "import geopandas as gpd\n",
    "import pandas as pd"
   ]
  },
  {
   "cell_type": "code",
   "execution_count": null,
   "id": "fd278a0c",
   "metadata": {},
   "outputs": [],
   "source": [
    "## check if osmium is installed\n",
    "\n",
    "try:\n",
    "    result = subprocess.run(['osmium', '--version'], check=True, capture_output=True, text=True)\n",
    "    print(f\"Osmium version: {result.stdout.strip()}\")\n",
    "except subprocess.CalledProcessError as e:\n",
    "    print(f\"Error running Osmium: {e}\")"
   ]
  },
  {
   "cell_type": "markdown",
   "id": "0398c3d1",
   "metadata": {},
   "source": [
    "what this does:\n",
    "\n",
    "1. Download OSM data from geofabrik\n",
    "2. Extract all highways using osmium\n",
    "3. Convert pbf tp geoparquet using ogr2ogr\n",
    "\n",
    "OUTPUT: Filtered OSM-Netzwerk as geoparquet"
   ]
  },
  {
   "cell_type": "code",
   "execution_count": 4,
   "id": "f7293c92-acd4-46dd-a8ee-fcc04821b478",
   "metadata": {},
   "outputs": [
    {
     "name": "stdout",
     "output_type": "stream",
     "text": [
      "File already exists: osm_geofabrik_pbf\\germany-250509.osm.pbf, skipping download.\n",
      "🔹 Running:  osmium tags-filter osm_geofabrik_pbf\\germany-250509.osm.pbf w/highway -o processed_osm_files\\processed_highways_germany_250509.pbf\n",
      "✅ Osmium processing complete! Files saved in 'processed_osm_files/'\n"
     ]
    }
   ],
   "source": [
    "\n",
    "#### Downloading OSM data from Geofabrik\n",
    "\n",
    "set_date = \"250509\" # 2025-05-09\n",
    "\n",
    "\n",
    "#https://download.geofabrik.de/europe/germany/berlin-250401.osm.pbf\n",
    "#\tgermany-250405.osm.pbf\n",
    "\n",
    "def download_geofabrik_pbf(filename,base_url = \"https://download.geofabrik.de/europe/\"):\n",
    "    folder_download = \"osm_geofabrik_pbf\"\n",
    "    os.makedirs(folder_download, exist_ok=True)\n",
    "    \n",
    "    #filename = \"germany-250401.osm.pbf\"\n",
    "    file_path = os.path.join(folder_download, filename)\n",
    "    file_url = base_url + filename\n",
    "    \n",
    "    if os.path.exists(file_path):\n",
    "        print(f\"File already exists: {file_path}, skipping download.\")\n",
    "    else:\n",
    "        print(f\"Downloading: {file_url}\")\n",
    "        response = requests.get(file_url, stream=True, timeout=60)\n",
    "        if response.status_code == 200:\n",
    "            with open(file_path, \"wb\") as f:\n",
    "                for chunk in response.iter_content(chunk_size=1024):\n",
    "                    f.write(chunk)\n",
    "            print(f\"Downloaded: {file_path}\")\n",
    "        else:\n",
    "            print(f\"Failed to download {file_url} (Status code: {response.status_code})\")\n",
    "\n",
    "\n",
    "# osmium needs to be installed on your system in order to run this code/filtering\n",
    "# https://osmcode.org/osmium-tool/\n",
    "# for my win11 machine i used https://trac.osgeo.org/osgeo4w/\n",
    "\n",
    "def run_osmium(filename):\n",
    "    try:\n",
    "        folder_download = \"osm_geofabrik_pbf\"\n",
    "        folder_processed = \"processed_osm_files\"\n",
    "        os.makedirs(folder_processed, exist_ok=True)\n",
    "        \n",
    "        input_pbf = os.path.join(folder_download, filename)\n",
    "        filtered_pbf = os.path.join(folder_processed, f\"processed_highways_germany_{set_date}.pbf\")\n",
    "\n",
    "        # # Convert to Unix-style paths using forward slashes\n",
    "        # input_pbf = input_pbf.replace(\"\\\\\", \"/\")\n",
    "        # filtered_pbf = filtered_pbf.replace(\"\\\\\", \"/\")\n",
    "\n",
    "        if os.path.exists(filtered_pbf):\n",
    "            print(f\"Processed file already exists: {filtered_pbf}, skipping processing.\")\n",
    "            return\n",
    "\n",
    "        filter_command = [\n",
    "            \"osmium\", \"tags-filter\",\n",
    "            input_pbf,\n",
    "            \"w/highway\",\n",
    "            \"-o\", filtered_pbf\n",
    "        ]\n",
    "        print(\"🔹 Running: \", \" \".join(filter_command))\n",
    "        subprocess.run(filter_command, check=True)\n",
    "\n",
    "        print(\"✅ Osmium processing complete! Files saved in 'processed_osm_files/'\")\n",
    "\n",
    "    except subprocess.CalledProcessError as e:\n",
    "        print(\"❌ Error running Osmium:\", e)\n",
    "\n",
    "\n",
    "\n",
    "\n",
    "filename = f\"germany-{set_date}.osm.pbf\"\n",
    "\n",
    "download_geofabrik_pbf(filename )\n",
    "\n",
    "run_osmium(filename)\n"
   ]
  },
  {
   "cell_type": "code",
   "execution_count": 6,
   "id": "1b4cb83d",
   "metadata": {},
   "outputs": [
    {
     "name": "stdout",
     "output_type": "stream",
     "text": [
      "Running: C:\\Program Files\\QGIS 3.40.6\\bin\\ogr2ogr.exe -f Parquet C:\\Users\\simon\\Nextcloud\\Analysen\\mapillary_coverage\\processed_osm_files\\processed_highways_germany_250509.parquet C:\\Users\\simon\\Nextcloud\\Analysen\\mapillary_coverage\\processed_osm_files\\processed_highways_germany_250509.pbf lines\n",
      "0...10...20...30...40...50...60...70...80...90...100 - done.\n",
      "\n"
     ]
    }
   ],
   "source": [
    "### takes ~3min for entire germany\n",
    "# ogr2ogr needs to be installed on your system in order to run this (maybe use QGIS like here)\n",
    "\n",
    "\n",
    "import subprocess\n",
    "from pathlib import Path\n",
    "\n",
    "def ogr2ogr_parquet(input_pbf, output_parquet, layer=\"lines\"):\n",
    "    ogr2ogr_path = Path(r\"C:\\Program Files\\QGIS 3.40.6\\bin\\ogr2ogr.exe\")\n",
    "\n",
    "    # Convert to absolute paths\n",
    "    input_pbf = str(Path(input_pbf).resolve())\n",
    "    output_parquet = str(Path(output_parquet).resolve())\n",
    "\n",
    "    cmd = [\n",
    "        str(ogr2ogr_path),\n",
    "        \"-f\", \"Parquet\",\n",
    "        output_parquet,\n",
    "        input_pbf,\n",
    "        layer,\n",
    "    ]\n",
    "\n",
    "    print(\"Running:\", \" \".join(cmd))\n",
    "    try:\n",
    "        result = subprocess.run(cmd, check=True, capture_output=True, text=True)\n",
    "\n",
    "        print(result.stdout)\n",
    "    except subprocess.CalledProcessError as e:\n",
    "        print(\"❌ ogr2ogr failed:\")\n",
    "        print(e.stderr)\n",
    "        raise\n",
    "\n",
    "\n",
    "# usage\n",
    "#input_pbf = Path(\"processed_osm_files/processed_highways_berlin_250401.pbf\")\n",
    "#output_file = Path(\"processed_osm_files/processed_highways_berlin_250401.parquet\")\n",
    "input_pbf = Path(f\"processed_osm_files/processed_highways_germany_{set_date}.pbf\")\n",
    "output_file = Path(f\"processed_osm_files/processed_highways_germany_{set_date}.parquet\")\n",
    "\n",
    "ogr2ogr_parquet(\n",
    "    input_pbf,\n",
    "    output_file,\n",
    ")"
   ]
  },
  {
   "cell_type": "code",
   "execution_count": null,
   "id": "250c8ac2",
   "metadata": {},
   "outputs": [],
   "source": []
  }
 ],
 "metadata": {
  "kernelspec": {
   "display_name": "mapillary_cov",
   "language": "python",
   "name": "python3"
  },
  "language_info": {
   "codemirror_mode": {
    "name": "ipython",
    "version": 3
   },
   "file_extension": ".py",
   "mimetype": "text/x-python",
   "name": "python",
   "nbconvert_exporter": "python",
   "pygments_lexer": "ipython3",
   "version": "3.11.11"
  }
 },
 "nbformat": 4,
 "nbformat_minor": 5
}
