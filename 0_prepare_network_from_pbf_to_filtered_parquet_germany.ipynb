{
 "cells": [
  {
   "cell_type": "code",
   "execution_count": 2,
   "id": "fe3c8c5a",
   "metadata": {},
   "outputs": [],
   "source": [
    "import os\n",
    "import requests\n",
    "import subprocess\n",
    "\n",
    "#from pyrosm import OSM\n",
    "import geopandas as gpd\n",
    "import pandas as pd"
   ]
  },
  {
   "cell_type": "code",
   "execution_count": 2,
   "id": "fd278a0c",
   "metadata": {},
   "outputs": [
    {
     "name": "stdout",
     "output_type": "stream",
     "text": [
      "Osmium version: osmium version 1.16.0\n",
      "libosmium version 2.20.0\n",
      "Supported PBF compression types: none zlib lz4\n",
      "\n",
      "Copyright (C) 2013-2023  Jochen Topf <jochen@topf.org>\n",
      "License: GNU GENERAL PUBLIC LICENSE Version 3 <https://gnu.org/licenses/gpl.html>.\n",
      "This is free software: you are free to change and redistribute it.\n",
      "There is NO WARRANTY, to the extent permitted by law.\n"
     ]
    }
   ],
   "source": [
    "## check if osmium is installed\n",
    "\n",
    "try:\n",
    "    result = subprocess.run(['osmium', '--version'], check=True, capture_output=True, text=True)\n",
    "    print(f\"Osmium version: {result.stdout.strip()}\")\n",
    "except subprocess.CalledProcessError as e:\n",
    "    print(f\"Error running Osmium: {e}\")"
   ]
  },
  {
   "cell_type": "markdown",
   "id": "0398c3d1",
   "metadata": {},
   "source": [
    "what this does:\n",
    "\n",
    "1. Download OSM data from geofabrik\n",
    "2. Extract all highways using osmium\n",
    "3. Convert pbf tp geoparquet using ogr2ogr\n",
    "\n",
    "OUTPUT: Filtered OSM-Netzwerk as geoparquet"
   ]
  },
  {
   "cell_type": "code",
   "execution_count": 6,
   "id": "f7293c92-acd4-46dd-a8ee-fcc04821b478",
   "metadata": {},
   "outputs": [
    {
     "name": "stdout",
     "output_type": "stream",
     "text": [
      "Downloading: https://download.geofabrik.de/europe/germany-251006.osm.pbf\n",
      "Downloaded: osm_geofabrik_pbf/germany-251006.osm.pbf\n",
      "🔹 Running:  osmium tags-filter osm_geofabrik_pbf/germany-251006.osm.pbf w/highway -o processed_osm_files/processed_highways_germany_251006.pbf\n",
      "✅ Osmium processing complete! Files saved in 'processed_osm_files/'\n"
     ]
    }
   ],
   "source": [
    "\n",
    "#### Downloading OSM data from Geofabrik\n",
    "\n",
    "#set_date = \"250509\" # 2025-05-09\n",
    "set_date = \"251006\" \n",
    "\n",
    "\n",
    "#https://download.geofabrik.de/europe/germany/berlin-250401.osm.pbf\n",
    "#\tgermany-250405.osm.pbf\n",
    "\n",
    "def download_geofabrik_pbf(filename,base_url = \"https://download.geofabrik.de/europe/\"):\n",
    "    folder_download = \"osm_geofabrik_pbf\"\n",
    "    os.makedirs(folder_download, exist_ok=True)\n",
    "    \n",
    "    #filename = \"germany-250401.osm.pbf\"\n",
    "    file_path = os.path.join(folder_download, filename)\n",
    "    file_url = base_url + filename\n",
    "    \n",
    "    if os.path.exists(file_path):\n",
    "        print(f\"File already exists: {file_path}, skipping download.\")\n",
    "    else:\n",
    "        print(f\"Downloading: {file_url}\")\n",
    "        response = requests.get(file_url, stream=True, timeout=60)\n",
    "        if response.status_code == 200:\n",
    "            with open(file_path, \"wb\") as f:\n",
    "                for chunk in response.iter_content(chunk_size=1024):\n",
    "                    f.write(chunk)\n",
    "            print(f\"Downloaded: {file_path}\")\n",
    "        else:\n",
    "            print(f\"Failed to download {file_url} (Status code: {response.status_code})\")\n",
    "\n",
    "\n",
    "# osmium needs to be installed on your system in order to run this code/filtering\n",
    "# https://osmcode.org/osmium-tool/\n",
    "# for my win11 machine i used https://trac.osgeo.org/osgeo4w/\n",
    "\n",
    "def run_osmium(filename):\n",
    "    try:\n",
    "        folder_download = \"osm_geofabrik_pbf\"\n",
    "        folder_processed = \"processed_osm_files\"\n",
    "        os.makedirs(folder_processed, exist_ok=True)\n",
    "        \n",
    "        input_pbf = os.path.join(folder_download, filename)\n",
    "        filtered_pbf = os.path.join(folder_processed, f\"processed_highways_germany_{set_date}.pbf\")\n",
    "\n",
    "        # # Convert to Unix-style paths using forward slashes\n",
    "        # input_pbf = input_pbf.replace(\"\\\\\", \"/\")\n",
    "        # filtered_pbf = filtered_pbf.replace(\"\\\\\", \"/\")\n",
    "\n",
    "        if os.path.exists(filtered_pbf):\n",
    "            print(f\"Processed file already exists: {filtered_pbf}, skipping processing.\")\n",
    "            return\n",
    "\n",
    "        filter_command = [\n",
    "            \"osmium\", \"tags-filter\",\n",
    "            input_pbf,\n",
    "            \"w/highway\",\n",
    "            \"-o\", filtered_pbf\n",
    "        ]\n",
    "        print(\"🔹 Running: \", \" \".join(filter_command))\n",
    "        subprocess.run(filter_command, check=True)\n",
    "\n",
    "        print(\"✅ Osmium processing complete! Files saved in 'processed_osm_files/'\")\n",
    "\n",
    "    except subprocess.CalledProcessError as e:\n",
    "        print(\"❌ Error running Osmium:\", e)\n",
    "\n",
    "\n",
    "\n",
    "\n",
    "filename = f\"germany-{set_date}.osm.pbf\"\n",
    "\n",
    "download_geofabrik_pbf(filename )\n",
    "\n",
    "run_osmium(filename)\n"
   ]
  },
  {
   "cell_type": "code",
   "execution_count": null,
   "id": "5c1b3583",
   "metadata": {},
   "outputs": [],
   "source": []
  },
  {
   "cell_type": "markdown",
   "id": "f5b7cbf0",
   "metadata": {},
   "source": [
    "____________________________________"
   ]
  },
  {
   "cell_type": "code",
   "execution_count": null,
   "id": "59245876",
   "metadata": {},
   "outputs": [],
   "source": [
    "# --- OSM-PBF zu Parquet konvertieren ---\n",
    "\n",
    "# Es gibt verschiedene Möglichkeiten:\n",
    "\n",
    "# Variante 1: Mit geopandas (einfach, aber langsamer und benötigt viel RAM) hier ~5min\n",
    "\n",
    "# Variante 2: Mit ogr2ogr (am schnellsten, benötigt GDAL mit Parquet-Support) hier ~2min\n",
    "\n",
    "# --- Hinweise zur Umgebung ---\n",
    "\n",
    "# Für Variante 2 (ogr2ogr) wird eine GDAL-Version mit Parquet-Support benötigt.\n",
    "# Empfohlene Installation mit micromamba:\n",
    "# 1. micromamba installieren\n",
    "# 2. Umgebung erstellen:\n",
    "#    micromamba create -y -n gdal_parquet_env -c conda-forge python=3.10 pyarrow gdal libgdal-arrow-parquet ipykernel\n",
    "\n",
    "# Alternativ geht auch mit miniconda:\n",
    "# 1. miniconda installieren\n",
    "# 2. Umgebung erstellen:\n",
    "#    source ~/miniconda3/bin/activate\n",
    "#    conda create -y -n gdal_parquet_env -c conda-forge python=3.10 pyarrow gdal libgdal-arrow-parquet ipykernel\n"
   ]
  },
  {
   "cell_type": "code",
   "execution_count": null,
   "id": "c2543c2e",
   "metadata": {},
   "outputs": [],
   "source": []
  },
  {
   "cell_type": "code",
   "execution_count": 4,
   "id": "e8e59a07",
   "metadata": {},
   "outputs": [],
   "source": [
    "set_date = \"251006\" "
   ]
  },
  {
   "cell_type": "code",
   "execution_count": 5,
   "id": "b83242b8",
   "metadata": {},
   "outputs": [],
   "source": [
    "# Variante 1 (geopandas):"
   ]
  },
  {
   "cell_type": "code",
   "execution_count": null,
   "id": "6190011c",
   "metadata": {},
   "outputs": [],
   "source": [
    "### via geopandas: 5min\n",
    "\n",
    "gdf = gpd.read_file(f\"processed_osm_files/processed_highways_germany_{set_date}.pbf\", layer=\"lines\")\n",
    "gdf.to_parquet(f\"processed_osm_files/processed_highways_germany_{set_date}_GP.parquet\")"
   ]
  },
  {
   "cell_type": "code",
   "execution_count": null,
   "id": "ae737c0b",
   "metadata": {},
   "outputs": [],
   "source": []
  },
  {
   "cell_type": "code",
   "execution_count": null,
   "id": "ad4eaa13",
   "metadata": {},
   "outputs": [],
   "source": [
    "#Variante 2 (ogr2ogr):"
   ]
  },
  {
   "cell_type": "code",
   "execution_count": 1,
   "id": "c6fb17ed",
   "metadata": {},
   "outputs": [],
   "source": [
    "import subprocess\n",
    "from pathlib import Path\n",
    "import os\n",
    "\n",
    "def ogr2ogr_parquet(input_file, output_parquet, layer=\"lines\", osmconf_path=None):\n",
    "    ogr2ogr_path = \"ogr2ogr\"  # Use system-installed ogr2ogr on WSL\n",
    "\n",
    "    input_file = Path(input_file).resolve()\n",
    "    output_parquet = Path(output_parquet).resolve()\n",
    "\n",
    "    cmd = [\n",
    "        ogr2ogr_path,\n",
    "        \"-f\", \"Parquet\",\n",
    "        str(output_parquet),\n",
    "        str(input_file),\n",
    "    ]\n",
    "\n",
    "    if layer:\n",
    "        cmd.append(layer)\n",
    "\n",
    "\n",
    "    # Prepare environment with optional OSM config path\n",
    "    env = os.environ.copy()\n",
    "    if osmconf_path:\n",
    "        env[\"OSM_CONFIG_FILE\"] = str(Path(osmconf_path).resolve())\n",
    "\n",
    "    print(\"Running:\", \" \".join(cmd))\n",
    "    try:\n",
    "        result = subprocess.run(\n",
    "            cmd,\n",
    "            check=True,\n",
    "            capture_output=True,\n",
    "            text=True,\n",
    "            env=env\n",
    "        )\n",
    "        print(result.stdout)\n",
    "    except subprocess.CalledProcessError as e:\n",
    "        print(\"❌ ogr2ogr failed:\")\n",
    "        print(\"STDERR:\", e.stderr)\n",
    "        print(\"STDOUT:\", e.stdout)\n",
    "        raise"
   ]
  },
  {
   "cell_type": "code",
   "execution_count": 2,
   "id": "522c498b",
   "metadata": {},
   "outputs": [
    {
     "name": "stdout",
     "output_type": "stream",
     "text": [
      "Running: ogr2ogr -f Parquet /home/simon/mapillary_coverage/processed_osm_files/processed_highways_germany_251006_env_new_mamba.parquet /home/simon/mapillary_coverage/processed_osm_files/processed_highways_germany_251006.pbf lines\n",
      "0...10...20...30...40...50...60...70...80...90...100 - done in 00:01:51.\n",
      "\n"
     ]
    }
   ],
   "source": [
    "# usage\n",
    "#input_pbf = Path(\"processed_osm_files/processed_highways_berlin_250401.pbf\")\n",
    "#output_file = Path(\"processed_osm_files/processed_highways_berlin_250401.parquet\")\n",
    "\n",
    "set_date = \"251006\" \n",
    "\n",
    "input_pbf = Path(f\"processed_osm_files/processed_highways_germany_{set_date}.pbf\")\n",
    "output_file = Path(f\"processed_osm_files/processed_highways_germany_{set_date}_env_new_mamba.parquet\")\n",
    "\n",
    "ogr2ogr_parquet(\n",
    "    input_pbf,\n",
    "    output_file,\n",
    ")"
   ]
  },
  {
   "cell_type": "code",
   "execution_count": null,
   "id": "df39a016",
   "metadata": {},
   "outputs": [],
   "source": []
  },
  {
   "cell_type": "code",
   "execution_count": null,
   "id": "868aaeb0",
   "metadata": {},
   "outputs": [],
   "source": []
  }
 ],
 "metadata": {
  "kernelspec": {
   "display_name": ".venv",
   "language": "python",
   "name": "python3"
  },
  "language_info": {
   "codemirror_mode": {
    "name": "ipython",
    "version": 3
   },
   "file_extension": ".py",
   "mimetype": "text/x-python",
   "name": "python",
   "nbconvert_exporter": "python",
   "pygments_lexer": "ipython3",
   "version": "3.12.3"
  }
 },
 "nbformat": 4,
 "nbformat_minor": 5
}
