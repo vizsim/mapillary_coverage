{
 "cells": [
  {
   "cell_type": "code",
   "execution_count": 25,
   "metadata": {},
   "outputs": [],
   "source": [
    "import numpy as np\n",
    "import pandas as pd\n",
    "import geopandas as gpd\n",
    "\n",
    "import matplotlib.pyplot as plt"
   ]
  },
  {
   "cell_type": "code",
   "execution_count": 26,
   "metadata": {},
   "outputs": [
    {
     "data": {
      "text/html": [
       "<div>\n",
       "<style scoped>\n",
       "    .dataframe tbody tr th:only-of-type {\n",
       "        vertical-align: middle;\n",
       "    }\n",
       "\n",
       "    .dataframe tbody tr th {\n",
       "        vertical-align: top;\n",
       "    }\n",
       "\n",
       "    .dataframe thead th {\n",
       "        text-align: right;\n",
       "    }\n",
       "</style>\n",
       "<table border=\"1\" class=\"dataframe\">\n",
       "  <thead>\n",
       "    <tr style=\"text-align: right;\">\n",
       "      <th></th>\n",
       "      <th>geometry</th>\n",
       "      <th>captured_at</th>\n",
       "      <th>creator_id</th>\n",
       "      <th>id</th>\n",
       "      <th>image_id</th>\n",
       "      <th>is_pano</th>\n",
       "      <th>organization_id</th>\n",
       "    </tr>\n",
       "  </thead>\n",
       "  <tbody>\n",
       "    <tr>\n",
       "      <th>0</th>\n",
       "      <td>LINESTRING (11.25 53.48816, 11.25001 53.48816,...</td>\n",
       "      <td>2023-08-08</td>\n",
       "      <td>1.059060e+14</td>\n",
       "      <td>3qWaopnmx0Hg84duJlRMvs</td>\n",
       "      <td>5.600373e+14</td>\n",
       "      <td>False</td>\n",
       "      <td>NaN</td>\n",
       "    </tr>\n",
       "    <tr>\n",
       "      <th>1</th>\n",
       "      <td>LINESTRING (11.25 53.48816, 11.25033 53.48815,...</td>\n",
       "      <td>2024-08-25</td>\n",
       "      <td>1.036070e+14</td>\n",
       "      <td>V7Y9Kyudnkh6WZCfTecHai</td>\n",
       "      <td>2.232804e+15</td>\n",
       "      <td>False</td>\n",
       "      <td>NaN</td>\n",
       "    </tr>\n",
       "    <tr>\n",
       "      <th>2</th>\n",
       "      <td>LINESTRING (11.25597 53.48805, 11.25571 53.488...</td>\n",
       "      <td>2024-08-17</td>\n",
       "      <td>1.036070e+14</td>\n",
       "      <td>w96aFGSQ3yq8ZxuPop7siW</td>\n",
       "      <td>7.845101e+15</td>\n",
       "      <td>False</td>\n",
       "      <td>NaN</td>\n",
       "    </tr>\n",
       "    <tr>\n",
       "      <th>3</th>\n",
       "      <td>LINESTRING (11.25527 53.48805, 11.25416 53.488...</td>\n",
       "      <td>2023-08-30</td>\n",
       "      <td>1.005241e+14</td>\n",
       "      <td>bZJvRiFE2yeCYV0tsIHKU8</td>\n",
       "      <td>8.473513e+14</td>\n",
       "      <td>False</td>\n",
       "      <td>NaN</td>\n",
       "    </tr>\n",
       "    <tr>\n",
       "      <th>4</th>\n",
       "      <td>LINESTRING (11.25 53.48821, 11.25041 53.4882, ...</td>\n",
       "      <td>2023-07-15</td>\n",
       "      <td>1.029764e+14</td>\n",
       "      <td>reRiOBw82C7HSInPsa3cDp</td>\n",
       "      <td>1.905719e+14</td>\n",
       "      <td>False</td>\n",
       "      <td>NaN</td>\n",
       "    </tr>\n",
       "    <tr>\n",
       "      <th>...</th>\n",
       "      <td>...</td>\n",
       "      <td>...</td>\n",
       "      <td>...</td>\n",
       "      <td>...</td>\n",
       "      <td>...</td>\n",
       "      <td>...</td>\n",
       "      <td>...</td>\n",
       "    </tr>\n",
       "    <tr>\n",
       "      <th>123568</th>\n",
       "      <td>LINESTRING (14.76659 51.56341, 14.76656 51.563...</td>\n",
       "      <td>2023-04-29</td>\n",
       "      <td>1.096899e+14</td>\n",
       "      <td>7G06OKMJgzsZpF4HiBcNd1</td>\n",
       "      <td>9.047768e+14</td>\n",
       "      <td>False</td>\n",
       "      <td>NaN</td>\n",
       "    </tr>\n",
       "    <tr>\n",
       "      <th>123569</th>\n",
       "      <td>MULTILINESTRING ((14.77453 51.5422, 14.77454 5...</td>\n",
       "      <td>2024-04-14</td>\n",
       "      <td>1.071818e+14</td>\n",
       "      <td>nRjv6sPAXi9CowIelB4r2S</td>\n",
       "      <td>4.444892e+14</td>\n",
       "      <td>False</td>\n",
       "      <td>NaN</td>\n",
       "    </tr>\n",
       "    <tr>\n",
       "      <th>123570</th>\n",
       "      <td>LINESTRING (14.77444 51.54219, 14.77444 51.542...</td>\n",
       "      <td>2024-04-14</td>\n",
       "      <td>1.071818e+14</td>\n",
       "      <td>JQzE5olUVSLFfOtKkag9GN</td>\n",
       "      <td>1.473379e+15</td>\n",
       "      <td>False</td>\n",
       "      <td>NaN</td>\n",
       "    </tr>\n",
       "    <tr>\n",
       "      <th>123571</th>\n",
       "      <td>LINESTRING (14.77977 51.5099, 14.78022 51.5097...</td>\n",
       "      <td>2024-05-31</td>\n",
       "      <td>1.092948e+14</td>\n",
       "      <td>NHx4eIw2BcnPWvLQOYhF0A</td>\n",
       "      <td>4.713430e+14</td>\n",
       "      <td>False</td>\n",
       "      <td>NaN</td>\n",
       "    </tr>\n",
       "    <tr>\n",
       "      <th>123572</th>\n",
       "      <td>LINESTRING (14.78388 51.50874, 14.78421 51.508...</td>\n",
       "      <td>2024-05-31</td>\n",
       "      <td>1.092948e+14</td>\n",
       "      <td>NHx4eIw2BcnPWvLQOYhF0A</td>\n",
       "      <td>4.713430e+14</td>\n",
       "      <td>False</td>\n",
       "      <td>NaN</td>\n",
       "    </tr>\n",
       "  </tbody>\n",
       "</table>\n",
       "<p>123573 rows × 7 columns</p>\n",
       "</div>"
      ],
      "text/plain": [
       "                                                 geometry captured_at  \\\n",
       "0       LINESTRING (11.25 53.48816, 11.25001 53.48816,...  2023-08-08   \n",
       "1       LINESTRING (11.25 53.48816, 11.25033 53.48815,...  2024-08-25   \n",
       "2       LINESTRING (11.25597 53.48805, 11.25571 53.488...  2024-08-17   \n",
       "3       LINESTRING (11.25527 53.48805, 11.25416 53.488...  2023-08-30   \n",
       "4       LINESTRING (11.25 53.48821, 11.25041 53.4882, ...  2023-07-15   \n",
       "...                                                   ...         ...   \n",
       "123568  LINESTRING (14.76659 51.56341, 14.76656 51.563...  2023-04-29   \n",
       "123569  MULTILINESTRING ((14.77453 51.5422, 14.77454 5...  2024-04-14   \n",
       "123570  LINESTRING (14.77444 51.54219, 14.77444 51.542...  2024-04-14   \n",
       "123571  LINESTRING (14.77977 51.5099, 14.78022 51.5097...  2024-05-31   \n",
       "123572  LINESTRING (14.78388 51.50874, 14.78421 51.508...  2024-05-31   \n",
       "\n",
       "          creator_id                      id      image_id  is_pano  \\\n",
       "0       1.059060e+14  3qWaopnmx0Hg84duJlRMvs  5.600373e+14    False   \n",
       "1       1.036070e+14  V7Y9Kyudnkh6WZCfTecHai  2.232804e+15    False   \n",
       "2       1.036070e+14  w96aFGSQ3yq8ZxuPop7siW  7.845101e+15    False   \n",
       "3       1.005241e+14  bZJvRiFE2yeCYV0tsIHKU8  8.473513e+14    False   \n",
       "4       1.029764e+14  reRiOBw82C7HSInPsa3cDp  1.905719e+14    False   \n",
       "...              ...                     ...           ...      ...   \n",
       "123568  1.096899e+14  7G06OKMJgzsZpF4HiBcNd1  9.047768e+14    False   \n",
       "123569  1.071818e+14  nRjv6sPAXi9CowIelB4r2S  4.444892e+14    False   \n",
       "123570  1.071818e+14  JQzE5olUVSLFfOtKkag9GN  1.473379e+15    False   \n",
       "123571  1.092948e+14  NHx4eIw2BcnPWvLQOYhF0A  4.713430e+14    False   \n",
       "123572  1.092948e+14  NHx4eIw2BcnPWvLQOYhF0A  4.713430e+14    False   \n",
       "\n",
       "        organization_id  \n",
       "0                   NaN  \n",
       "1                   NaN  \n",
       "2                   NaN  \n",
       "3                   NaN  \n",
       "4                   NaN  \n",
       "...                 ...  \n",
       "123568              NaN  \n",
       "123569              NaN  \n",
       "123570              NaN  \n",
       "123571              NaN  \n",
       "123572              NaN  \n",
       "\n",
       "[123573 rows x 7 columns]"
      ]
     },
     "execution_count": 26,
     "metadata": {},
     "output_type": "execute_result"
    }
   ],
   "source": [
    "mapillary_coverage_23_bb = gpd.read_parquet(\"mapillary_coverage_23_bb.parquet\")\n",
    "#mapillary_coverage_23_bb.plot()\n",
    "\n",
    "mapillary_coverage_23_bb"
   ]
  },
  {
   "cell_type": "code",
   "execution_count": null,
   "metadata": {},
   "outputs": [],
   "source": []
  },
  {
   "cell_type": "code",
   "execution_count": 27,
   "metadata": {},
   "outputs": [],
   "source": [
    "# takes a while to run ~ 6min\n",
    "# first buffer then dissolve\n",
    "\n",
    "#mapillary_coverage_23_bb = gpd.read_parquet(\"mapillary_coverage_23_bb.parquet\")\n",
    "\n",
    "#sample=mapillary_coverage_23_bb[:6000].copy()\n",
    "#sample=mapillary_coverage_23_bb[:1000].copy()\n",
    "\n",
    "# expolde the geometry to make buffering faster\n",
    "mapillary_coverage_23_bb_exploded = mapillary_coverage_23_bb.explode(index_parts=False, ignore_index=True)\n",
    "\n",
    "# create 10m buffers for all the lines\n",
    "mapillary_coverage_23_bb_buffered = mapillary_coverage_23_bb_exploded.to_crs(25832).copy()\n",
    "mapillary_coverage_23_bb_buffered['geometry'] = mapillary_coverage_23_bb_buffered['geometry'].buffer(10)\n",
    "\n",
    "# dissolve the buffered geometries for pano and non-pano\n",
    "mapillary_coverage_23_bb_buffered_diss = mapillary_coverage_23_bb_buffered.dissolve(by=\"is_pano\")\n"
   ]
  },
  {
   "cell_type": "code",
   "execution_count": 28,
   "metadata": {},
   "outputs": [],
   "source": [
    "#keep=mapillary_coverage_23_bb_buffered_diss.copy()"
   ]
  },
  {
   "cell_type": "code",
   "execution_count": 29,
   "metadata": {},
   "outputs": [],
   "source": [
    "mapillary_coverage_23_bb_buffered_diss=mapillary_coverage_23_bb_buffered_diss.reset_index()\n",
    "mapillary_coverage_23_bb_buffered_diss.to_parquet(\"mapillary_coverage_23_bb_buffered10m_dissolved.parquet\")"
   ]
  },
  {
   "cell_type": "code",
   "execution_count": 30,
   "metadata": {},
   "outputs": [],
   "source": [
    "mapillary_coverage_23_bb_buffered=mapillary_coverage_23_bb_buffered.reset_index()\n",
    "mapillary_coverage_23_bb_buffered.to_parquet(\"mapillary_coverage_23_bb_buffered10m_ndissolved.parquet\")"
   ]
  },
  {
   "cell_type": "code",
   "execution_count": null,
   "metadata": {},
   "outputs": [],
   "source": []
  },
  {
   "cell_type": "code",
   "execution_count": null,
   "metadata": {},
   "outputs": [],
   "source": []
  },
  {
   "cell_type": "code",
   "execution_count": null,
   "metadata": {},
   "outputs": [],
   "source": []
  },
  {
   "cell_type": "code",
   "execution_count": null,
   "metadata": {},
   "outputs": [],
   "source": []
  },
  {
   "cell_type": "code",
   "execution_count": null,
   "metadata": {},
   "outputs": [],
   "source": []
  },
  {
   "cell_type": "code",
   "execution_count": null,
   "metadata": {},
   "outputs": [],
   "source": []
  },
  {
   "cell_type": "code",
   "execution_count": null,
   "metadata": {},
   "outputs": [],
   "source": []
  },
  {
   "cell_type": "code",
   "execution_count": null,
   "metadata": {},
   "outputs": [],
   "source": []
  },
  {
   "cell_type": "code",
   "execution_count": null,
   "metadata": {},
   "outputs": [],
   "source": []
  },
  {
   "cell_type": "markdown",
   "metadata": {},
   "source": [
    "### some performance tests"
   ]
  },
  {
   "cell_type": "code",
   "execution_count": null,
   "metadata": {},
   "outputs": [],
   "source": [
    "## alternative: explode the multilinestrings only\n",
    "### its exactly the same speed\n",
    "\n",
    "def explode_multilines(gdf):\n",
    "    multi = gdf[gdf.geometry.type == 'MultiLineString']\n",
    "    single = gdf[gdf.geometry.type != 'MultiLineString']\n",
    "    exploded = multi.explode(index_parts=False, ignore_index=True)\n",
    "    return pd.concat([single, exploded], ignore_index=True)\n",
    "\n",
    "# expolde the geometry to make buffering faster\n",
    "mapillary_coverage_23_bb_exploded = explode_multilines(mapillary_coverage_23_bb)\n",
    "#mapillary_coverage_23_bb_exploded = mapillary_coverage_23_bb.explode(index_parts=False, ignore_index=True)\n",
    "\n",
    "# create 10m buffers for all the lines\n",
    "mapillary_coverage_23_bb_buffered = mapillary_coverage_23_bb_exploded.to_crs(25832).copy()\n",
    "mapillary_coverage_23_bb_buffered['geometry'] = mapillary_coverage_23_bb_buffered['geometry'].buffer(10)\n",
    "\n",
    "# dissolve the buffered geometries for pano and non-pano\n",
    "mapillary_coverage_23_bb_buffered_diss = mapillary_coverage_23_bb_buffered.dissolve(by=\"is_pano\")"
   ]
  },
  {
   "cell_type": "code",
   "execution_count": null,
   "metadata": {},
   "outputs": [],
   "source": []
  },
  {
   "cell_type": "code",
   "execution_count": null,
   "metadata": {},
   "outputs": [
    {
     "name": "stderr",
     "output_type": "stream",
     "text": [
      "c:\\Users\\simon\\anaconda3\\envs\\tempo30_new\\Lib\\site-packages\\distributed\\node.py:187: UserWarning: Port 8787 is already in use.\n",
      "Perhaps you already have a cluster running?\n",
      "Hosting the HTTP server on port 62431 instead\n",
      "  warnings.warn(\n",
      "c:\\Users\\simon\\anaconda3\\envs\\tempo30_new\\Lib\\site-packages\\distributed\\client.py:3383: UserWarning: Sending large graph of size 166.86 MiB.\n",
      "This may cause some slowdown.\n",
      "Consider loading the data with Dask directly\n",
      " or using futures or delayed objects to embed the data into the graph without repetition.\n",
      "See also https://docs.dask.org/en/stable/best-practices.html#load-data-with-dask for more information.\n",
      "  warnings.warn(\n"
     ]
    }
   ],
   "source": [
    "## try with dask\n",
    "## this is not faster but still not really understood\n",
    "### takes ~ 7min\n",
    "\n",
    "import geopandas as gpd\n",
    "import shapely\n",
    "import dask\n",
    "from dask import delayed\n",
    "from dask.distributed import Client\n",
    "import pandas as pd\n",
    "\n",
    "# Start Dask client\n",
    "client = Client()\n",
    "print(client.dashboard_link)\n",
    "\n",
    "# Load your data\n",
    "gdf = gpd.read_parquet(\"mapillary_coverage_23_bb.parquet\")\n",
    "gdf = gdf.explode(index_parts=False, ignore_index=True)\n",
    "gdf = gdf.to_crs(25832)\n",
    "\n",
    "# Split into chunks manually\n",
    "def buffer_chunk(chunk):\n",
    "    chunk = chunk.copy()\n",
    "    chunk['geometry'] = shapely.buffer(chunk['geometry'].values, 10)\n",
    "    return chunk\n",
    "\n",
    "# Chunk size\n",
    "chunk_size = 10_000\n",
    "chunks = [gdf.iloc[i:i + chunk_size] for i in range(0, len(gdf), chunk_size)]\n",
    "\n",
    "# Wrap each chunk in delayed\n",
    "buffered_chunks = [delayed(buffer_chunk)(chunk) for chunk in chunks]\n",
    "\n",
    "# Compute all chunks\n",
    "buffered_results = dask.compute(*buffered_chunks)\n",
    "\n",
    "# Combine all buffered results\n",
    "buffered_df = pd.concat(buffered_results, ignore_index=True)\n",
    "buffered_gdf = gpd.GeoDataFrame(buffered_df, geometry='geometry', crs=gdf.crs)\n",
    "\n",
    "# Dissolve by \"is_pano\"\n",
    "buffered_diss = buffered_gdf.dissolve(by=\"is_pano\")\n"
   ]
  },
  {
   "cell_type": "code",
   "execution_count": 14,
   "metadata": {},
   "outputs": [
    {
     "data": {
      "text/html": [
       "<div>\n",
       "<style scoped>\n",
       "    .dataframe tbody tr th:only-of-type {\n",
       "        vertical-align: middle;\n",
       "    }\n",
       "\n",
       "    .dataframe tbody tr th {\n",
       "        vertical-align: top;\n",
       "    }\n",
       "\n",
       "    .dataframe thead th {\n",
       "        text-align: right;\n",
       "    }\n",
       "</style>\n",
       "<table border=\"1\" class=\"dataframe\">\n",
       "  <thead>\n",
       "    <tr style=\"text-align: right;\">\n",
       "      <th></th>\n",
       "      <th>geometry</th>\n",
       "      <th>captured_at</th>\n",
       "      <th>creator_id</th>\n",
       "      <th>id</th>\n",
       "      <th>image_id</th>\n",
       "      <th>organization_id</th>\n",
       "    </tr>\n",
       "    <tr>\n",
       "      <th>is_pano</th>\n",
       "      <th></th>\n",
       "      <th></th>\n",
       "      <th></th>\n",
       "      <th></th>\n",
       "      <th></th>\n",
       "      <th></th>\n",
       "    </tr>\n",
       "  </thead>\n",
       "  <tbody>\n",
       "    <tr>\n",
       "      <th>False</th>\n",
       "      <td>MULTIPOLYGON (((658148.636 5692083.449, 658146...</td>\n",
       "      <td>2023-08-08</td>\n",
       "      <td>1.059060e+14</td>\n",
       "      <td>3qWaopnmx0Hg84duJlRMvs</td>\n",
       "      <td>5.600373e+14</td>\n",
       "      <td>4.272651e+14</td>\n",
       "    </tr>\n",
       "    <tr>\n",
       "      <th>True</th>\n",
       "      <td>MULTIPOLYGON (((710149.54 5694133.065, 710148....</td>\n",
       "      <td>2023-02-02</td>\n",
       "      <td>1.014800e+14</td>\n",
       "      <td>YUpyLmhqz8A0dMCrk1cSQi</td>\n",
       "      <td>1.583684e+15</td>\n",
       "      <td>3.192697e+14</td>\n",
       "    </tr>\n",
       "  </tbody>\n",
       "</table>\n",
       "</div>"
      ],
      "text/plain": [
       "                                                  geometry captured_at  \\\n",
       "is_pano                                                                  \n",
       "False    MULTIPOLYGON (((658148.636 5692083.449, 658146...  2023-08-08   \n",
       "True     MULTIPOLYGON (((710149.54 5694133.065, 710148....  2023-02-02   \n",
       "\n",
       "           creator_id                      id      image_id  organization_id  \n",
       "is_pano                                                                       \n",
       "False    1.059060e+14  3qWaopnmx0Hg84duJlRMvs  5.600373e+14     4.272651e+14  \n",
       "True     1.014800e+14  YUpyLmhqz8A0dMCrk1cSQi  1.583684e+15     3.192697e+14  "
      ]
     },
     "execution_count": 14,
     "metadata": {},
     "output_type": "execute_result"
    }
   ],
   "source": [
    "buffered_diss\n"
   ]
  },
  {
   "cell_type": "code",
   "execution_count": 20,
   "metadata": {},
   "outputs": [
    {
     "ename": "AttributeError",
     "evalue": "'function' object has no attribute 'reset_index'",
     "output_type": "error",
     "traceback": [
      "\u001b[1;31m---------------------------------------------------------------------------\u001b[0m",
      "\u001b[1;31mAttributeError\u001b[0m                            Traceback (most recent call last)",
      "Cell \u001b[1;32mIn[20], line 1\u001b[0m\n\u001b[1;32m----> 1\u001b[0m buffered_diss\u001b[38;5;241m=\u001b[39m\u001b[43mbuffered_diss\u001b[49m\u001b[38;5;241;43m.\u001b[39;49m\u001b[43mreset_index\u001b[49m()\n",
      "\u001b[1;31mAttributeError\u001b[0m: 'function' object has no attribute 'reset_index'"
     ]
    }
   ],
   "source": [
    "buffered_diss=buffered_diss.reset_index()"
   ]
  },
  {
   "cell_type": "code",
   "execution_count": 19,
   "metadata": {},
   "outputs": [
    {
     "ename": "TypeError",
     "evalue": "'method' object is not subscriptable",
     "output_type": "error",
     "traceback": [
      "\u001b[1;31m---------------------------------------------------------------------------\u001b[0m",
      "\u001b[1;31mTypeError\u001b[0m                                 Traceback (most recent call last)",
      "Cell \u001b[1;32mIn[19], line 1\u001b[0m\n\u001b[1;32m----> 1\u001b[0m buffered_diss[\u001b[43mbuffered_diss\u001b[49m\u001b[43m[\u001b[49m\u001b[38;5;124;43m\"\u001b[39;49m\u001b[38;5;124;43mis_pano\u001b[39;49m\u001b[38;5;124;43m\"\u001b[39;49m\u001b[43m]\u001b[49m\u001b[38;5;241m==\u001b[39m\u001b[38;5;28;01mTrue\u001b[39;00m]\u001b[38;5;241m.\u001b[39mplot()\n",
      "\u001b[1;31mTypeError\u001b[0m: 'method' object is not subscriptable"
     ]
    }
   ],
   "source": [
    "buffered_diss[buffered_diss[\"is_pano\"]==True].plot()"
   ]
  },
  {
   "cell_type": "code",
   "execution_count": null,
   "metadata": {},
   "outputs": [],
   "source": []
  }
 ],
 "metadata": {
  "kernelspec": {
   "display_name": "tempo30_new",
   "language": "python",
   "name": "python3"
  },
  "language_info": {
   "codemirror_mode": {
    "name": "ipython",
    "version": 3
   },
   "file_extension": ".py",
   "mimetype": "text/x-python",
   "name": "python",
   "nbconvert_exporter": "python",
   "pygments_lexer": "ipython3",
   "version": "3.12.9"
  }
 },
 "nbformat": 4,
 "nbformat_minor": 2
}
