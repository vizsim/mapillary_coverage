{
 "cells": [
  {
   "cell_type": "markdown",
   "id": "1f580172",
   "metadata": {},
   "source": [
    "# Was tut dieses Skript?\n",
    "\n",
    "Dieses Skript lädt OSM-Daten von Geofabrik herunter,\n",
    "filtert alle Straßen mit Osmium,\n",
    "und konvertiert das Ergebnis in das Parquet-Format\n",
    "(wahlweise mit geopandas oder ogr2ogr)."
   ]
  },
  {
   "cell_type": "code",
   "execution_count": null,
   "id": "fe3c8c5a",
   "metadata": {},
   "outputs": [],
   "source": [
    "import os\n",
    "import requests\n",
    "import subprocess\n",
    "import json\n",
    "from datetime import datetime\n",
    "\n",
    "import geopandas as gpd\n",
    "import pandas as pd\n",
    "\n",
    "from pathlib import Path\n",
    "\n",
    "from config import GEOFABRIK_CONFIG, PROCESSING_CONFIG, MAPILLARY_CONFIG, TILES_CONFIG"
   ]
  },
  {
   "cell_type": "markdown",
   "id": "f7f8b675",
   "metadata": {},
   "source": [
    "## Check if osmium is installed"
   ]
  },
  {
   "cell_type": "code",
   "execution_count": 3,
   "id": "fd278a0c",
   "metadata": {},
   "outputs": [
    {
     "name": "stdout",
     "output_type": "stream",
     "text": [
      "Osmium version: osmium version 1.16.0\n",
      "libosmium version 2.20.0\n",
      "Supported PBF compression types: none zlib lz4\n",
      "\n",
      "Copyright (C) 2013-2023  Jochen Topf <jochen@topf.org>\n",
      "License: GNU GENERAL PUBLIC LICENSE Version 3 <https://gnu.org/licenses/gpl.html>.\n",
      "This is free software: you are free to change and redistribute it.\n",
      "There is NO WARRANTY, to the extent permitted by law.\n"
     ]
    }
   ],
   "source": [
    "try:\n",
    "    result = subprocess.run(['osmium', '--version'], check=True, capture_output=True, text=True)\n",
    "    print(f\"Osmium version: {result.stdout.strip()}\")\n",
    "except subprocess.CalledProcessError as e:\n",
    "    print(f\"Error running Osmium: {e}\")"
   ]
  },
  {
   "cell_type": "markdown",
   "id": "daea8dfe",
   "metadata": {},
   "source": [
    "## Downloading OSM data from Geofabrik"
   ]
  },
  {
   "cell_type": "code",
   "execution_count": 4,
   "id": "f7293c92-acd4-46dd-a8ee-fcc04821b478",
   "metadata": {},
   "outputs": [
    {
     "name": "stdout",
     "output_type": "stream",
     "text": [
      "Downloading: https://download.geofabrik.de/europe/germany-latest.osm.pbf\n",
      "Downloaded: osm_geofabrik_pbf/germany-latest.osm.pbf\n",
      "🔹 Running:  osmium tags-filter osm_geofabrik_pbf/germany-latest.osm.pbf w/highway -o processed_osm_files/processed_highways_latest.pbf\n",
      "✅ Osmium processing complete! Files saved in 'processed_osm_files/'\n"
     ]
    }
   ],
   "source": [
    "def get_osm_timestamp(pbf_file):\n",
    "    \"\"\"Extract timestamp from PBF file using osmium.\"\"\"\n",
    "    try:\n",
    "        result = subprocess.run([\n",
    "            'osmium', 'fileinfo', pbf_file, '-g', 'header.option.timestamp'\n",
    "        ], capture_output=True, text=True, check=True)\n",
    "        return result.stdout.strip()\n",
    "    except subprocess.CalledProcessError as e:\n",
    "        print(f\"Error getting timestamp from {pbf_file}: {e}\")\n",
    "        return None\n",
    "\n",
    "def save_metadata(metadata, filename=\"osm_metadata.json\"):\n",
    "    \"\"\"Save metadata to JSON file for use in other notebooks.\"\"\"\n",
    "    with open(filename, 'w') as f:\n",
    "        json.dump(metadata, f, indent=2, default=str)\n",
    "    print(f\"Metadata saved to {filename}\")\n",
    "\n",
    "def load_metadata(filename=\"osm_metadata.json\"):\n",
    "    \"\"\"Load metadata from JSON file.\"\"\"\n",
    "    try:\n",
    "        with open(filename, 'r') as f:\n",
    "            return json.load(f)\n",
    "    except FileNotFoundError:\n",
    "        print(f\"Metadata file {filename} not found\")\n",
    "        return None\n",
    "\n",
    "def download_geofabrik_pbf(pbf_url=None):\n",
    "    if pbf_url is None:\n",
    "        pbf_url = GEOFABRIK_CONFIG[\"pbf_url\"]\n",
    "    folder_download = GEOFABRIK_CONFIG[\"download_folder\"]\n",
    "    os.makedirs(folder_download, exist_ok=True)\n",
    "\n",
    "    # Extract filename from URL\n",
    "    filename = os.path.basename(pbf_url)\n",
    "    file_path = os.path.join(folder_download, filename)\n",
    "    file_url = pbf_url\n",
    "\n",
    "    if os.path.exists(file_path):\n",
    "        print(f\"File already exists: {file_path}, skipping download.\")\n",
    "    else:\n",
    "        print(f\"Downloading: {file_url}\")\n",
    "        response = requests.get(file_url, stream=True, timeout=60, allow_redirects=True)\n",
    "        if response.status_code == 200:\n",
    "            # Show the final URL after redirects\n",
    "            final_url = response.url\n",
    "            if final_url != file_url:\n",
    "                print(f\"Redirected to: {final_url}\")\n",
    "            with open(file_path, \"wb\") as f:\n",
    "                for chunk in response.iter_content(chunk_size=1024):\n",
    "                    f.write(chunk)\n",
    "            print(f\"Downloaded: {file_path}\")\n",
    "        else:\n",
    "            print(f\"Failed to download {file_url} (Status code: {response.status_code})\")\n",
    "\n",
    "\n",
    "# osmium needs to be installed on your system in order to run this code/filtering\n",
    "# https://osmcode.org/osmium-tool/\n",
    "# for my win11 machine i used https://trac.osgeo.org/osgeo4w/\n",
    "\n",
    "def run_osmium(filename):\n",
    "    try:\n",
    "        folder_download = GEOFABRIK_CONFIG[\"download_folder\"]\n",
    "        folder_processed = GEOFABRIK_CONFIG[\"processed_folder\"]\n",
    "        os.makedirs(folder_processed, exist_ok=True)\n",
    "\n",
    "        input_pbf = os.path.join(folder_download, filename)\n",
    "        filtered_pbf = os.path.join(folder_processed, \"processed_highways_latest.pbf\")\n",
    "\n",
    "        # # Convert to Unix-style paths using forward slashes\n",
    "        # input_pbf = input_pbf.replace(\"\\\\\", \"/\")\n",
    "        # filtered_pbf = filtered_pbf.replace(\"\\\\\", \"/\")\n",
    "\n",
    "        if os.path.exists(filtered_pbf):\n",
    "            print(f\"Processed file already exists: {filtered_pbf}, skipping processing.\")\n",
    "            return\n",
    "\n",
    "        filter_command = [\n",
    "            \"osmium\", \"tags-filter\",\n",
    "            input_pbf,\n",
    "            \"w/highway\",\n",
    "            \"-o\", filtered_pbf\n",
    "        ]\n",
    "        print(\"🔹 Running: \", \" \".join(filter_command))\n",
    "        subprocess.run(filter_command, check=True)\n",
    "\n",
    "        print(\"✅ Osmium processing complete! Files saved in 'processed_osm_files/'\")\n",
    "\n",
    "    except subprocess.CalledProcessError as e:\n",
    "        print(\"❌ Error running Osmium:\", e)\n",
    "\n",
    "\n",
    "\n",
    "\n",
    "# Download and process the latest OSM data\n",
    "download_geofabrik_pbf()\n",
    "filename = os.path.basename(GEOFABRIK_CONFIG[\"pbf_url\"])\n",
    "run_osmium(filename)\n"
   ]
  },
  {
   "cell_type": "code",
   "execution_count": 5,
   "id": "fe5d389f",
   "metadata": {},
   "outputs": [
    {
     "name": "stdout",
     "output_type": "stream",
     "text": [
      "Metadata file osm_metadata.json not found\n",
      "No metadata found. Run the download first.\n"
     ]
    }
   ],
   "source": [
    "# Load and display metadata\n",
    "metadata = load_metadata()\n",
    "if metadata:\n",
    "    print(\"OSM Data Metadata:\")\n",
    "    print(f\"  Data from: {metadata.get('osm_data_from', 'Unknown')}\")\n",
    "    print(f\"  Download date: {metadata.get('download_date', 'Unknown')}\")\n",
    "    print(f\"  File path: {metadata.get('file_path', 'Unknown')}\")\n",
    "    print(f\"  Download URL: {metadata.get('download_url', 'Unknown')}\")\n",
    "else:\n",
    "    print(\"No metadata found. Run the download first.\")\n"
   ]
  },
  {
   "cell_type": "code",
   "execution_count": 6,
   "id": "200064f2",
   "metadata": {},
   "outputs": [
    {
     "name": "stdout",
     "output_type": "stream",
     "text": [
      "Extracting OSM data date from: osm_geofabrik_pbf/germany-latest.osm.pbf\n",
      "Metadata saved to osm_metadata.json\n",
      "✅ OSM data date: 2025-10-17T20:21:35Z\n"
     ]
    }
   ],
   "source": [
    "# Extract OSM data date from downloaded file\n",
    "def extract_osm_date():\n",
    "    \"\"\"Extract OSM data date from downloaded PBF file.\"\"\"\n",
    "    # Get the downloaded file path\n",
    "    filename = os.path.basename(GEOFABRIK_CONFIG[\"pbf_url\"])\n",
    "    file_path = os.path.join(GEOFABRIK_CONFIG[\"download_folder\"], filename)\n",
    "\n",
    "    if os.path.exists(file_path):\n",
    "        print(f\"Extracting OSM data date from: {file_path}\")\n",
    "        timestamp = get_osm_timestamp(file_path)\n",
    "        if timestamp:\n",
    "            # Save only the OSM data date\n",
    "            metadata = {\"osm_data_from\": timestamp}\n",
    "            save_metadata(metadata)\n",
    "            print(f\"✅ OSM data date: {timestamp}\")\n",
    "        else:\n",
    "            print(\"❌ Could not extract timestamp from PBF file\")\n",
    "    else:\n",
    "        print(f\"❌ PBF file not found: {file_path}\")\n",
    "        print(\"   Run the download first!\")\n",
    "\n",
    "# Extract OSM data date\n",
    "extract_osm_date()\n"
   ]
  },
  {
   "cell_type": "code",
   "execution_count": 7,
   "id": "605cba26",
   "metadata": {},
   "outputs": [
    {
     "name": "stdout",
     "output_type": "stream",
     "text": [
      "📅 OSM data from: 2025-10-17T20:21:35Z\n"
     ]
    }
   ],
   "source": [
    "# Display OSM data date\n",
    "metadata = load_metadata()\n",
    "if metadata and \"osm_data_from\" in metadata:\n",
    "    print(f\"📅 OSM data from: {metadata['osm_data_from']}\")\n",
    "else:\n",
    "    print(\"❌ No OSM data date found. Run the extraction first.\")\n"
   ]
  },
  {
   "cell_type": "markdown",
   "id": "f5b7cbf0",
   "metadata": {},
   "source": [
    "____________________________________"
   ]
  },
  {
   "cell_type": "markdown",
   "id": "ee565294",
   "metadata": {},
   "source": [
    "### --- OSM-PBF zu Parquet konvertieren ---\n"
   ]
  },
  {
   "cell_type": "code",
   "execution_count": null,
   "id": "59245876",
   "metadata": {},
   "outputs": [],
   "source": [
    "# --- OSM-PBF zu Parquet konvertieren ---\n",
    "\n",
    "# Es gibt verschiedene Möglichkeiten:\n",
    "\n",
    "# Variante 1: Mit geopandas (einfach, aber langsamer und benötigt viel RAM) hier ~5min\n",
    "\n",
    "# Variante 2: Mit ogr2ogr (am schnellsten, benötigt GDAL mit Parquet-Support) hier ~2min\n",
    "\n",
    "# --- Hinweise zur Umgebung ---\n",
    "\n",
    "# Für Variante 2 (ogr2ogr) wird eine GDAL-Version mit Parquet-Support benötigt.\n",
    "# Empfohlene Installation mit micromamba:\n",
    "# 1. micromamba installieren\n",
    "# 2. Umgebung erstellen:\n",
    "#    micromamba create -y -n gdal_parquet_env -c conda-forge python=3.10 pyarrow gdal libgdal-arrow-parquet ipykernel\n"
   ]
  },
  {
   "cell_type": "code",
   "execution_count": null,
   "id": "c2543c2e",
   "metadata": {},
   "outputs": [],
   "source": [
    "\n",
    "\n",
    "def ogr2ogr_parquet(input_file, output_parquet, layer=\"lines\"):\n",
    "    ogr2ogr_path = \"ogr2ogr\"  # Use system-installed ogr2ogr \n",
    "\n",
    "    input_file = Path(input_file).resolve()\n",
    "    output_parquet = Path(output_parquet).resolve()\n",
    "    home = Path.home()\n",
    "\n",
    "    def shorten_path(p: Path):\n",
    "        try:\n",
    "            return \"~/\" + str(p.relative_to(home))\n",
    "        except ValueError:\n",
    "            return str(p)\n",
    "\n",
    "\n",
    "    cmd = [\n",
    "        ogr2ogr_path,\n",
    "        \"-f\", \"Parquet\",\n",
    "        str(output_parquet),\n",
    "        str(input_file),\n",
    "    ]\n",
    "\n",
    "    if layer:\n",
    "        cmd.append(layer)\n",
    "\n",
    "\n",
    "    # Kürze alle Pfade (auch nicht existierende)\n",
    "    printable_cmd = []\n",
    "    for c in cmd:\n",
    "        # Kürze nur, wenn es nach einem Pfad aussieht\n",
    "        if c.startswith(\"/\") or c.startswith(str(home)):\n",
    "            printable_cmd.append(shorten_path(Path(c)))\n",
    "        else:\n",
    "            printable_cmd.append(c)\n",
    "\n",
    "    print(\"Running:\", \" \".join(printable_cmd))\n",
    "\n",
    "    # Prepare environment\n",
    "    env = os.environ.copy()\n",
    "\n",
    "    try:\n",
    "        result = subprocess.run(\n",
    "            cmd,\n",
    "            check=True,\n",
    "            capture_output=True,\n",
    "            text=True,\n",
    "            env=env\n",
    "        )\n",
    "        print(result.stdout)\n",
    "    except subprocess.CalledProcessError as e:\n",
    "        print(\"❌ ogr2ogr failed:\")\n",
    "        print(\"STDERR:\", e.stderr)\n",
    "        print(\"STDOUT:\", e.stdout)\n",
    "        raise"
   ]
  },
  {
   "cell_type": "markdown",
   "id": "b83242b8",
   "metadata": {},
   "source": [
    "## run "
   ]
  },
  {
   "cell_type": "code",
   "execution_count": null,
   "id": "6190011c",
   "metadata": {},
   "outputs": [],
   "source": [
    "\n",
    "if PROCESSING_CONFIG['pbf_to_parquet'] == 'geopandas':\n",
    "    ### ~5min\n",
    "    print(\"Using geopandas to convert PBF to Parquet\")\n",
    "    input_file = \"processed_osm_files/processed_highways_latest.pbf\"\n",
    "    output_parquet = \"processed_osm_files/processed_highways_latest.parquet\"\n",
    "    \n",
    "    gdf = gpd.read_file(input_file, layer=\"lines\")\n",
    "    gdf.to_parquet(output_parquet)\n",
    "\n",
    "if PROCESSING_CONFIG['pbf_to_parquet'] == 'ogr2ogr':\n",
    "    ### ~2min\n",
    "    print(\"Using ogr2ogr to convert PBF to Parquet\")\n",
    "    input_pbf = Path(\"processed_osm_files/processed_highways_latest.pbf\")\n",
    "    output_file = Path(\"processed_osm_files/processed_highways_latest.parquet\")\n",
    "\n",
    "    ogr2ogr_parquet(\n",
    "        input_pbf,\n",
    "        output_file,\n",
    "    )\n"
   ]
  },
  {
   "cell_type": "code",
   "execution_count": null,
   "id": "df39a016",
   "metadata": {},
   "outputs": [],
   "source": []
  },
  {
   "cell_type": "code",
   "execution_count": null,
   "id": "868aaeb0",
   "metadata": {},
   "outputs": [],
   "source": []
  }
 ],
 "metadata": {
  "kernelspec": {
   "display_name": "gdal_parquet_env",
   "language": "python",
   "name": "python3"
  },
  "language_info": {
   "codemirror_mode": {
    "name": "ipython",
    "version": 3
   },
   "file_extension": ".py",
   "mimetype": "text/x-python",
   "name": "python",
   "nbconvert_exporter": "python",
   "pygments_lexer": "ipython3",
   "version": "3.10.18"
  }
 },
 "nbformat": 4,
 "nbformat_minor": 5
}
