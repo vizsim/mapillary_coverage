{
 "cells": [
  {
   "cell_type": "code",
   "execution_count": null,
   "id": "9b23c48b",
   "metadata": {},
   "outputs": [],
   "source": []
  },
  {
   "cell_type": "code",
   "execution_count": null,
   "id": "747747f5",
   "metadata": {},
   "outputs": [],
   "source": [
    "# ------------------------------------------\n",
    "# Was tut dieses Skript?\n",
    "# Dieses Skript verarbeitet Mapillary-Coverage-Daten für OSM-Highways in Deutschland.\n",
    "# Es liest die Coverage-Daten für \"pano\" und \"regular\", filtert sie nach einem Coverage-Ratio >= 0.6,\n",
    "# kombiniert die Ergebnisse, entfernt Duplikate (bevorzugt \"pano\"), und speichert die finale Tabelle als CSV.\n",
    "# siehe https://github.com/vizsim/mapillary_coverage/issues/1\n",
    "# ------------------------------------------"
   ]
  },
  {
   "cell_type": "code",
   "execution_count": 1,
   "id": "cecd52c4",
   "metadata": {},
   "outputs": [],
   "source": [
    "import pandas as pd\n",
    "import geopandas as gpd\n",
    "# Read the Parquet files\n",
    "\n",
    "\n",
    "#gdf_mp_pano = pd.read_parquet(\"germany_osm-highways_25-04-05_mp_pano_coverage_23-01-01until25-04-01_ratio.parquet\")\n",
    "#gdf_mp_all = pd.read_parquet(\"germany_osm-highways_25-04-05_mp_all_coverage_23-01-01until25-04-01_ratio.parquet\")\n",
    "\n",
    "# gdf_mp_pano = pd.read_parquet(\"germany_osm-highways_25-05-09_mp_pano_coverage_25-05-10_ratio.parquet\")\n",
    "# gdf_mp_regular = pd.read_parquet(\"germany_osm-highways_25-05-09_mp_regular_coverage_25-05-10_ratio.parquet\")\n",
    "\n",
    "\n",
    "gdf_mp_pano = pd.read_parquet(\"germany_osm-highways_25-10-06_mp_pano_coverage_25-10-07_ratio.parquet\")\n",
    "gdf_mp_regular = pd.read_parquet(\"germany_osm-highways_25-10-06_mp_regular_coverage_25-10-07_ratio.parquet\")\n"
   ]
  },
  {
   "cell_type": "code",
   "execution_count": 2,
   "id": "8abf57e3",
   "metadata": {},
   "outputs": [],
   "source": [
    "gdf_mp_pano=gdf_mp_pano[[\"osm_id\",\"mp_coverage_ratio\"]].copy()"
   ]
  },
  {
   "cell_type": "code",
   "execution_count": 3,
   "id": "303523ac",
   "metadata": {},
   "outputs": [],
   "source": [
    "gdf_mp_pano_above_06=gdf_mp_pano[gdf_mp_pano[\"mp_coverage_ratio\"]>=0.6].copy()"
   ]
  },
  {
   "cell_type": "code",
   "execution_count": 4,
   "id": "fdf6e30d",
   "metadata": {},
   "outputs": [],
   "source": [
    "gdf_mp_pano_above_06[\"mapillary_coverage\"] = \"pano\""
   ]
  },
  {
   "cell_type": "code",
   "execution_count": 5,
   "id": "43b9c80f",
   "metadata": {},
   "outputs": [
    {
     "data": {
      "text/html": [
       "<div>\n",
       "<style scoped>\n",
       "    .dataframe tbody tr th:only-of-type {\n",
       "        vertical-align: middle;\n",
       "    }\n",
       "\n",
       "    .dataframe tbody tr th {\n",
       "        vertical-align: top;\n",
       "    }\n",
       "\n",
       "    .dataframe thead th {\n",
       "        text-align: right;\n",
       "    }\n",
       "</style>\n",
       "<table border=\"1\" class=\"dataframe\">\n",
       "  <thead>\n",
       "    <tr style=\"text-align: right;\">\n",
       "      <th></th>\n",
       "      <th>osm_id</th>\n",
       "      <th>mp_coverage_ratio</th>\n",
       "      <th>mapillary_coverage</th>\n",
       "    </tr>\n",
       "  </thead>\n",
       "  <tbody>\n",
       "    <tr>\n",
       "      <th>0</th>\n",
       "      <td>680</td>\n",
       "      <td>1.0</td>\n",
       "      <td>pano</td>\n",
       "    </tr>\n",
       "    <tr>\n",
       "      <th>1</th>\n",
       "      <td>1978</td>\n",
       "      <td>1.0</td>\n",
       "      <td>pano</td>\n",
       "    </tr>\n",
       "    <tr>\n",
       "      <th>5</th>\n",
       "      <td>2293021</td>\n",
       "      <td>1.0</td>\n",
       "      <td>pano</td>\n",
       "    </tr>\n",
       "    <tr>\n",
       "      <th>7</th>\n",
       "      <td>2413197</td>\n",
       "      <td>1.0</td>\n",
       "      <td>pano</td>\n",
       "    </tr>\n",
       "    <tr>\n",
       "      <th>8</th>\n",
       "      <td>2413202</td>\n",
       "      <td>1.0</td>\n",
       "      <td>pano</td>\n",
       "    </tr>\n",
       "    <tr>\n",
       "      <th>...</th>\n",
       "      <td>...</td>\n",
       "      <td>...</td>\n",
       "      <td>...</td>\n",
       "    </tr>\n",
       "    <tr>\n",
       "      <th>764150</th>\n",
       "      <td>1435981806</td>\n",
       "      <td>1.0</td>\n",
       "      <td>pano</td>\n",
       "    </tr>\n",
       "    <tr>\n",
       "      <th>764151</th>\n",
       "      <td>1435981807</td>\n",
       "      <td>1.0</td>\n",
       "      <td>pano</td>\n",
       "    </tr>\n",
       "    <tr>\n",
       "      <th>764152</th>\n",
       "      <td>1435981808</td>\n",
       "      <td>1.0</td>\n",
       "      <td>pano</td>\n",
       "    </tr>\n",
       "    <tr>\n",
       "      <th>764153</th>\n",
       "      <td>1435981809</td>\n",
       "      <td>1.0</td>\n",
       "      <td>pano</td>\n",
       "    </tr>\n",
       "    <tr>\n",
       "      <th>764157</th>\n",
       "      <td>1435985709</td>\n",
       "      <td>1.0</td>\n",
       "      <td>pano</td>\n",
       "    </tr>\n",
       "  </tbody>\n",
       "</table>\n",
       "<p>427675 rows × 3 columns</p>\n",
       "</div>"
      ],
      "text/plain": [
       "            osm_id  mp_coverage_ratio mapillary_coverage\n",
       "0              680                1.0               pano\n",
       "1             1978                1.0               pano\n",
       "5          2293021                1.0               pano\n",
       "7          2413197                1.0               pano\n",
       "8          2413202                1.0               pano\n",
       "...            ...                ...                ...\n",
       "764150  1435981806                1.0               pano\n",
       "764151  1435981807                1.0               pano\n",
       "764152  1435981808                1.0               pano\n",
       "764153  1435981809                1.0               pano\n",
       "764157  1435985709                1.0               pano\n",
       "\n",
       "[427675 rows x 3 columns]"
      ]
     },
     "execution_count": 5,
     "metadata": {},
     "output_type": "execute_result"
    }
   ],
   "source": [
    "gdf_mp_pano_above_06"
   ]
  },
  {
   "cell_type": "code",
   "execution_count": null,
   "id": "d96cf552",
   "metadata": {},
   "outputs": [],
   "source": []
  },
  {
   "cell_type": "code",
   "execution_count": 6,
   "id": "0b476455",
   "metadata": {},
   "outputs": [],
   "source": [
    "gdf_mp_regular=gdf_mp_regular[[\"osm_id\",\"mp_coverage_ratio\"]].copy()"
   ]
  },
  {
   "cell_type": "code",
   "execution_count": 7,
   "id": "de934492",
   "metadata": {},
   "outputs": [],
   "source": [
    "gdf_mp_regular_above_06=gdf_mp_regular[gdf_mp_regular[\"mp_coverage_ratio\"]>=0.6].copy()"
   ]
  },
  {
   "cell_type": "code",
   "execution_count": 8,
   "id": "e28be5fe",
   "metadata": {},
   "outputs": [
    {
     "data": {
      "text/html": [
       "<div>\n",
       "<style scoped>\n",
       "    .dataframe tbody tr th:only-of-type {\n",
       "        vertical-align: middle;\n",
       "    }\n",
       "\n",
       "    .dataframe tbody tr th {\n",
       "        vertical-align: top;\n",
       "    }\n",
       "\n",
       "    .dataframe thead th {\n",
       "        text-align: right;\n",
       "    }\n",
       "</style>\n",
       "<table border=\"1\" class=\"dataframe\">\n",
       "  <thead>\n",
       "    <tr style=\"text-align: right;\">\n",
       "      <th></th>\n",
       "      <th>osm_id</th>\n",
       "      <th>mp_coverage_ratio</th>\n",
       "    </tr>\n",
       "  </thead>\n",
       "  <tbody>\n",
       "    <tr>\n",
       "      <th>2</th>\n",
       "      <td>104</td>\n",
       "      <td>1.000000</td>\n",
       "    </tr>\n",
       "    <tr>\n",
       "      <th>6</th>\n",
       "      <td>111</td>\n",
       "      <td>1.000000</td>\n",
       "    </tr>\n",
       "    <tr>\n",
       "      <th>7</th>\n",
       "      <td>117</td>\n",
       "      <td>1.000000</td>\n",
       "    </tr>\n",
       "    <tr>\n",
       "      <th>8</th>\n",
       "      <td>122</td>\n",
       "      <td>1.000000</td>\n",
       "    </tr>\n",
       "    <tr>\n",
       "      <th>9</th>\n",
       "      <td>123</td>\n",
       "      <td>0.868701</td>\n",
       "    </tr>\n",
       "    <tr>\n",
       "      <th>...</th>\n",
       "      <td>...</td>\n",
       "      <td>...</td>\n",
       "    </tr>\n",
       "    <tr>\n",
       "      <th>2983013</th>\n",
       "      <td>1435994704</td>\n",
       "      <td>1.000000</td>\n",
       "    </tr>\n",
       "    <tr>\n",
       "      <th>2983014</th>\n",
       "      <td>1435994705</td>\n",
       "      <td>1.000000</td>\n",
       "    </tr>\n",
       "    <tr>\n",
       "      <th>2983015</th>\n",
       "      <td>1435994706</td>\n",
       "      <td>1.000000</td>\n",
       "    </tr>\n",
       "    <tr>\n",
       "      <th>2983016</th>\n",
       "      <td>1435994707</td>\n",
       "      <td>1.000000</td>\n",
       "    </tr>\n",
       "    <tr>\n",
       "      <th>2983017</th>\n",
       "      <td>1435994708</td>\n",
       "      <td>1.000000</td>\n",
       "    </tr>\n",
       "  </tbody>\n",
       "</table>\n",
       "<p>1631743 rows × 2 columns</p>\n",
       "</div>"
      ],
      "text/plain": [
       "             osm_id  mp_coverage_ratio\n",
       "2               104           1.000000\n",
       "6               111           1.000000\n",
       "7               117           1.000000\n",
       "8               122           1.000000\n",
       "9               123           0.868701\n",
       "...             ...                ...\n",
       "2983013  1435994704           1.000000\n",
       "2983014  1435994705           1.000000\n",
       "2983015  1435994706           1.000000\n",
       "2983016  1435994707           1.000000\n",
       "2983017  1435994708           1.000000\n",
       "\n",
       "[1631743 rows x 2 columns]"
      ]
     },
     "execution_count": 8,
     "metadata": {},
     "output_type": "execute_result"
    }
   ],
   "source": [
    "gdf_mp_regular_above_06"
   ]
  },
  {
   "cell_type": "code",
   "execution_count": 9,
   "id": "e0e9335f",
   "metadata": {},
   "outputs": [],
   "source": [
    "gdf_mp_regular_above_06[\"mapillary_coverage\"] = \"regular\""
   ]
  },
  {
   "cell_type": "code",
   "execution_count": 10,
   "id": "6ec06a90",
   "metadata": {},
   "outputs": [],
   "source": [
    "both_concat=pd.concat([gdf_mp_pano_above_06,gdf_mp_regular_above_06],ignore_index=True)"
   ]
  },
  {
   "cell_type": "code",
   "execution_count": 11,
   "id": "730af067",
   "metadata": {},
   "outputs": [
    {
     "data": {
      "text/plain": [
       "mapillary_coverage\n",
       "regular    1631743\n",
       "pano        427675\n",
       "Name: count, dtype: int64"
      ]
     },
     "execution_count": 11,
     "metadata": {},
     "output_type": "execute_result"
    }
   ],
   "source": [
    "both_concat[\"mapillary_coverage\"].value_counts()"
   ]
  },
  {
   "cell_type": "code",
   "execution_count": 13,
   "id": "45ad64fc",
   "metadata": {},
   "outputs": [],
   "source": [
    "## drop duplicates, keep pano\n",
    "both_concat = both_concat.sort_values(by=\"mapillary_coverage\", ascending=True).drop_duplicates(subset=\"osm_id\", keep=\"first\")"
   ]
  },
  {
   "cell_type": "code",
   "execution_count": 14,
   "id": "ba35adf1",
   "metadata": {},
   "outputs": [
    {
     "data": {
      "text/plain": [
       "mapillary_coverage\n",
       "regular    1450647\n",
       "pano        427675\n",
       "Name: count, dtype: int64"
      ]
     },
     "execution_count": 14,
     "metadata": {},
     "output_type": "execute_result"
    }
   ],
   "source": [
    "both_concat[\"mapillary_coverage\"].value_counts()"
   ]
  },
  {
   "cell_type": "code",
   "execution_count": 15,
   "id": "9bd74fb2",
   "metadata": {},
   "outputs": [
    {
     "data": {
      "text/plain": [
       "osm_id\n",
       "680           1\n",
       "1062878716    1\n",
       "1062878715    1\n",
       "1062878115    1\n",
       "1062828053    1\n",
       "             ..\n",
       "187549939     1\n",
       "187548520     1\n",
       "187548519     1\n",
       "187545910     1\n",
       "1435994708    1\n",
       "Name: count, Length: 1878322, dtype: int64"
      ]
     },
     "execution_count": 15,
     "metadata": {},
     "output_type": "execute_result"
    }
   ],
   "source": [
    "both_concat[\"osm_id\"].value_counts()"
   ]
  },
  {
   "cell_type": "code",
   "execution_count": 16,
   "id": "a708ea43",
   "metadata": {},
   "outputs": [],
   "source": [
    "both_concat=both_concat[[\"osm_id\",\"mapillary_coverage\"]].copy()"
   ]
  },
  {
   "cell_type": "code",
   "execution_count": 17,
   "id": "49e9c382",
   "metadata": {},
   "outputs": [
    {
     "data": {
      "text/html": [
       "<div>\n",
       "<style scoped>\n",
       "    .dataframe tbody tr th:only-of-type {\n",
       "        vertical-align: middle;\n",
       "    }\n",
       "\n",
       "    .dataframe tbody tr th {\n",
       "        vertical-align: top;\n",
       "    }\n",
       "\n",
       "    .dataframe thead th {\n",
       "        text-align: right;\n",
       "    }\n",
       "</style>\n",
       "<table border=\"1\" class=\"dataframe\">\n",
       "  <thead>\n",
       "    <tr style=\"text-align: right;\">\n",
       "      <th></th>\n",
       "      <th>osm_id</th>\n",
       "      <th>mapillary_coverage</th>\n",
       "    </tr>\n",
       "  </thead>\n",
       "  <tbody>\n",
       "    <tr>\n",
       "      <th>0</th>\n",
       "      <td>680</td>\n",
       "      <td>pano</td>\n",
       "    </tr>\n",
       "    <tr>\n",
       "      <th>285123</th>\n",
       "      <td>1062878716</td>\n",
       "      <td>pano</td>\n",
       "    </tr>\n",
       "    <tr>\n",
       "      <th>285122</th>\n",
       "      <td>1062878715</td>\n",
       "      <td>pano</td>\n",
       "    </tr>\n",
       "    <tr>\n",
       "      <th>285121</th>\n",
       "      <td>1062878115</td>\n",
       "      <td>pano</td>\n",
       "    </tr>\n",
       "    <tr>\n",
       "      <th>285120</th>\n",
       "      <td>1062828053</td>\n",
       "      <td>pano</td>\n",
       "    </tr>\n",
       "    <tr>\n",
       "      <th>...</th>\n",
       "      <td>...</td>\n",
       "      <td>...</td>\n",
       "    </tr>\n",
       "    <tr>\n",
       "      <th>971584</th>\n",
       "      <td>187549939</td>\n",
       "      <td>regular</td>\n",
       "    </tr>\n",
       "    <tr>\n",
       "      <th>971583</th>\n",
       "      <td>187548520</td>\n",
       "      <td>regular</td>\n",
       "    </tr>\n",
       "    <tr>\n",
       "      <th>971582</th>\n",
       "      <td>187548519</td>\n",
       "      <td>regular</td>\n",
       "    </tr>\n",
       "    <tr>\n",
       "      <th>971580</th>\n",
       "      <td>187545910</td>\n",
       "      <td>regular</td>\n",
       "    </tr>\n",
       "    <tr>\n",
       "      <th>2059417</th>\n",
       "      <td>1435994708</td>\n",
       "      <td>regular</td>\n",
       "    </tr>\n",
       "  </tbody>\n",
       "</table>\n",
       "<p>1878322 rows × 2 columns</p>\n",
       "</div>"
      ],
      "text/plain": [
       "             osm_id mapillary_coverage\n",
       "0               680               pano\n",
       "285123   1062878716               pano\n",
       "285122   1062878715               pano\n",
       "285121   1062878115               pano\n",
       "285120   1062828053               pano\n",
       "...             ...                ...\n",
       "971584    187549939            regular\n",
       "971583    187548520            regular\n",
       "971582    187548519            regular\n",
       "971580    187545910            regular\n",
       "2059417  1435994708            regular\n",
       "\n",
       "[1878322 rows x 2 columns]"
      ]
     },
     "execution_count": 17,
     "metadata": {},
     "output_type": "execute_result"
    }
   ],
   "source": [
    "both_concat"
   ]
  },
  {
   "cell_type": "code",
   "execution_count": 18,
   "id": "f44ca298",
   "metadata": {},
   "outputs": [],
   "source": [
    "both_concat.to_csv(\"output/germany_osm-highways_25-10-06_mp_coverage_23-01-01until25-10-07_ratio_above_06.csv\",index=False)"
   ]
  },
  {
   "cell_type": "code",
   "execution_count": null,
   "id": "0c458ee0",
   "metadata": {},
   "outputs": [],
   "source": []
  }
 ],
 "metadata": {
  "kernelspec": {
   "display_name": ".venv",
   "language": "python",
   "name": "python3"
  },
  "language_info": {
   "codemirror_mode": {
    "name": "ipython",
    "version": 3
   },
   "file_extension": ".py",
   "mimetype": "text/x-python",
   "name": "python",
   "nbconvert_exporter": "python",
   "pygments_lexer": "ipython3",
   "version": "3.12.3"
  }
 },
 "nbformat": 4,
 "nbformat_minor": 5
}
