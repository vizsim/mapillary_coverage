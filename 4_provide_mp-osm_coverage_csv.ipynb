{
 "cells": [
  {
   "cell_type": "code",
   "execution_count": null,
   "id": "9b23c48b",
   "metadata": {},
   "outputs": [],
   "source": [
    "## https://github.com/vizsim/mapillary_coverage/issues/1"
   ]
  },
  {
   "cell_type": "code",
   "execution_count": null,
   "id": "747747f5",
   "metadata": {},
   "outputs": [],
   "source": []
  },
  {
   "cell_type": "code",
   "execution_count": 4,
   "id": "cecd52c4",
   "metadata": {},
   "outputs": [
    {
     "name": "stdout",
     "output_type": "stream",
     "text": [
      "    osm_id      highway  mp_coverage_ratio  length_m_before_clip  \\\n",
      "0     1978      primary           1.000000             66.017066   \n",
      "1  1880866  residential           0.019283            498.687025   \n",
      "2  1880870  residential           0.020499            435.853088   \n",
      "3  1881164  residential           0.040049            222.833428   \n",
      "4  2293021         path           1.000000            109.656800   \n",
      "\n",
      "   length_m_after_clip                                           geometry  \n",
      "0            66.017066  b'\\x01\\x02\\x00\\x00\\x00\\x03\\x00\\x00\\x00\\x8d\\x9b...  \n",
      "1             9.615933  b'\\x01\\x02\\x00\\x00\\x00\\x03\\x00\\x00\\x00\\x98\\xcd...  \n",
      "2             8.934343  b'\\x01\\x02\\x00\\x00\\x00\\x03\\x00\\x00\\x00k\\xe3\\x9...  \n",
      "3             8.924277  b'\\x01\\x02\\x00\\x00\\x00\\x03\\x00\\x00\\x00\\x1c\\x87...  \n",
      "4           109.656800  b'\\x01\\x02\\x00\\x00\\x00\\x05\\x00\\x00\\x00PT\\xd8\\x...  \n"
     ]
    }
   ],
   "source": [
    "import pandas as pd\n",
    "import geopandas as gpd\n",
    "# Read the Parquet files\n",
    "\n",
    "\n",
    "gdf_mp_pano = pd.read_parquet(\"germany_osm-highways_25-04-05_mp_pano_coverage_23-01-01until25-04-01_ratio.parquet\")\n",
    "gdf_mp_all = pd.read_parquet(\"germany_osm-highways_25-04-05_mp_all_coverage_23-01-01until25-04-01_ratio.parquet\")\n"
   ]
  },
  {
   "cell_type": "code",
   "execution_count": 8,
   "id": "8abf57e3",
   "metadata": {},
   "outputs": [],
   "source": [
    "gdf_mp_pano=gdf_mp_pano[[\"osm_id\",\"mp_coverage_ratio\"]].copy()"
   ]
  },
  {
   "cell_type": "code",
   "execution_count": 12,
   "id": "303523ac",
   "metadata": {},
   "outputs": [],
   "source": [
    "gdf_mp_pano_above_06=gdf_mp_pano[gdf_mp_pano[\"mp_coverage_ratio\"]>=0.6].copy()"
   ]
  },
  {
   "cell_type": "code",
   "execution_count": 13,
   "id": "fdf6e30d",
   "metadata": {},
   "outputs": [],
   "source": [
    "gdf_mp_pano_above_06[\"mapillary_coverage\"] = \"pano\""
   ]
  },
  {
   "cell_type": "code",
   "execution_count": 14,
   "id": "43b9c80f",
   "metadata": {},
   "outputs": [
    {
     "data": {
      "text/html": [
       "<div>\n",
       "<style scoped>\n",
       "    .dataframe tbody tr th:only-of-type {\n",
       "        vertical-align: middle;\n",
       "    }\n",
       "\n",
       "    .dataframe tbody tr th {\n",
       "        vertical-align: top;\n",
       "    }\n",
       "\n",
       "    .dataframe thead th {\n",
       "        text-align: right;\n",
       "    }\n",
       "</style>\n",
       "<table border=\"1\" class=\"dataframe\">\n",
       "  <thead>\n",
       "    <tr style=\"text-align: right;\">\n",
       "      <th></th>\n",
       "      <th>osm_id</th>\n",
       "      <th>mp_coverage_ratio</th>\n",
       "      <th>mapillary_coverage</th>\n",
       "    </tr>\n",
       "  </thead>\n",
       "  <tbody>\n",
       "    <tr>\n",
       "      <th>0</th>\n",
       "      <td>1978</td>\n",
       "      <td>1.00000</td>\n",
       "      <td>pano</td>\n",
       "    </tr>\n",
       "    <tr>\n",
       "      <th>4</th>\n",
       "      <td>2293021</td>\n",
       "      <td>1.00000</td>\n",
       "      <td>pano</td>\n",
       "    </tr>\n",
       "    <tr>\n",
       "      <th>9</th>\n",
       "      <td>2483295</td>\n",
       "      <td>0.65936</td>\n",
       "      <td>pano</td>\n",
       "    </tr>\n",
       "    <tr>\n",
       "      <th>10</th>\n",
       "      <td>2483296</td>\n",
       "      <td>1.00000</td>\n",
       "      <td>pano</td>\n",
       "    </tr>\n",
       "    <tr>\n",
       "      <th>17</th>\n",
       "      <td>2597457</td>\n",
       "      <td>0.97025</td>\n",
       "      <td>pano</td>\n",
       "    </tr>\n",
       "    <tr>\n",
       "      <th>...</th>\n",
       "      <td>...</td>\n",
       "      <td>...</td>\n",
       "      <td>...</td>\n",
       "    </tr>\n",
       "    <tr>\n",
       "      <th>469976</th>\n",
       "      <td>1375078594</td>\n",
       "      <td>1.00000</td>\n",
       "      <td>pano</td>\n",
       "    </tr>\n",
       "    <tr>\n",
       "      <th>469977</th>\n",
       "      <td>1375078595</td>\n",
       "      <td>1.00000</td>\n",
       "      <td>pano</td>\n",
       "    </tr>\n",
       "    <tr>\n",
       "      <th>469978</th>\n",
       "      <td>1375078596</td>\n",
       "      <td>1.00000</td>\n",
       "      <td>pano</td>\n",
       "    </tr>\n",
       "    <tr>\n",
       "      <th>469979</th>\n",
       "      <td>1375078597</td>\n",
       "      <td>1.00000</td>\n",
       "      <td>pano</td>\n",
       "    </tr>\n",
       "    <tr>\n",
       "      <th>469980</th>\n",
       "      <td>1375078598</td>\n",
       "      <td>1.00000</td>\n",
       "      <td>pano</td>\n",
       "    </tr>\n",
       "  </tbody>\n",
       "</table>\n",
       "<p>265933 rows × 3 columns</p>\n",
       "</div>"
      ],
      "text/plain": [
       "            osm_id  mp_coverage_ratio mapillary_coverage\n",
       "0             1978            1.00000               pano\n",
       "4          2293021            1.00000               pano\n",
       "9          2483295            0.65936               pano\n",
       "10         2483296            1.00000               pano\n",
       "17         2597457            0.97025               pano\n",
       "...            ...                ...                ...\n",
       "469976  1375078594            1.00000               pano\n",
       "469977  1375078595            1.00000               pano\n",
       "469978  1375078596            1.00000               pano\n",
       "469979  1375078597            1.00000               pano\n",
       "469980  1375078598            1.00000               pano\n",
       "\n",
       "[265933 rows x 3 columns]"
      ]
     },
     "execution_count": 14,
     "metadata": {},
     "output_type": "execute_result"
    }
   ],
   "source": [
    "gdf_mp_pano_above_06"
   ]
  },
  {
   "cell_type": "code",
   "execution_count": null,
   "id": "d96cf552",
   "metadata": {},
   "outputs": [],
   "source": []
  },
  {
   "cell_type": "code",
   "execution_count": 15,
   "id": "0b476455",
   "metadata": {},
   "outputs": [],
   "source": [
    "gdf_mp_all=gdf_mp_all[[\"osm_id\",\"mp_coverage_ratio\"]].copy()"
   ]
  },
  {
   "cell_type": "code",
   "execution_count": 16,
   "id": "de934492",
   "metadata": {},
   "outputs": [],
   "source": [
    "gdf_mp_all_above_06=gdf_mp_all[gdf_mp_all[\"mp_coverage_ratio\"]>=0.6].copy()"
   ]
  },
  {
   "cell_type": "code",
   "execution_count": 17,
   "id": "e28be5fe",
   "metadata": {},
   "outputs": [
    {
     "data": {
      "text/html": [
       "<div>\n",
       "<style scoped>\n",
       "    .dataframe tbody tr th:only-of-type {\n",
       "        vertical-align: middle;\n",
       "    }\n",
       "\n",
       "    .dataframe tbody tr th {\n",
       "        vertical-align: top;\n",
       "    }\n",
       "\n",
       "    .dataframe thead th {\n",
       "        text-align: right;\n",
       "    }\n",
       "</style>\n",
       "<table border=\"1\" class=\"dataframe\">\n",
       "  <thead>\n",
       "    <tr style=\"text-align: right;\">\n",
       "      <th></th>\n",
       "      <th>osm_id</th>\n",
       "      <th>mp_coverage_ratio</th>\n",
       "    </tr>\n",
       "  </thead>\n",
       "  <tbody>\n",
       "    <tr>\n",
       "      <th>2</th>\n",
       "      <td>104</td>\n",
       "      <td>1.000000</td>\n",
       "    </tr>\n",
       "    <tr>\n",
       "      <th>6</th>\n",
       "      <td>111</td>\n",
       "      <td>1.000000</td>\n",
       "    </tr>\n",
       "    <tr>\n",
       "      <th>7</th>\n",
       "      <td>117</td>\n",
       "      <td>1.000000</td>\n",
       "    </tr>\n",
       "    <tr>\n",
       "      <th>8</th>\n",
       "      <td>122</td>\n",
       "      <td>1.000000</td>\n",
       "    </tr>\n",
       "    <tr>\n",
       "      <th>9</th>\n",
       "      <td>123</td>\n",
       "      <td>0.874366</td>\n",
       "    </tr>\n",
       "    <tr>\n",
       "      <th>...</th>\n",
       "      <td>...</td>\n",
       "      <td>...</td>\n",
       "    </tr>\n",
       "    <tr>\n",
       "      <th>2693327</th>\n",
       "      <td>1375081655</td>\n",
       "      <td>1.000000</td>\n",
       "    </tr>\n",
       "    <tr>\n",
       "      <th>2693332</th>\n",
       "      <td>1375084788</td>\n",
       "      <td>0.603866</td>\n",
       "    </tr>\n",
       "    <tr>\n",
       "      <th>2693336</th>\n",
       "      <td>1375091830</td>\n",
       "      <td>1.000000</td>\n",
       "    </tr>\n",
       "    <tr>\n",
       "      <th>2693337</th>\n",
       "      <td>1375091831</td>\n",
       "      <td>1.000000</td>\n",
       "    </tr>\n",
       "    <tr>\n",
       "      <th>2693344</th>\n",
       "      <td>1375094702</td>\n",
       "      <td>0.874425</td>\n",
       "    </tr>\n",
       "  </tbody>\n",
       "</table>\n",
       "<p>1476231 rows × 2 columns</p>\n",
       "</div>"
      ],
      "text/plain": [
       "             osm_id  mp_coverage_ratio\n",
       "2               104           1.000000\n",
       "6               111           1.000000\n",
       "7               117           1.000000\n",
       "8               122           1.000000\n",
       "9               123           0.874366\n",
       "...             ...                ...\n",
       "2693327  1375081655           1.000000\n",
       "2693332  1375084788           0.603866\n",
       "2693336  1375091830           1.000000\n",
       "2693337  1375091831           1.000000\n",
       "2693344  1375094702           0.874425\n",
       "\n",
       "[1476231 rows x 2 columns]"
      ]
     },
     "execution_count": 17,
     "metadata": {},
     "output_type": "execute_result"
    }
   ],
   "source": [
    "gdf_mp_all_above_06"
   ]
  },
  {
   "cell_type": "code",
   "execution_count": 18,
   "id": "e0e9335f",
   "metadata": {},
   "outputs": [],
   "source": [
    "gdf_mp_all_above_06[\"mapillary_coverage\"] = \"regular\""
   ]
  },
  {
   "cell_type": "code",
   "execution_count": 29,
   "id": "6ec06a90",
   "metadata": {},
   "outputs": [],
   "source": [
    "both_concat=pd.concat([gdf_mp_pano_above_06,gdf_mp_all_above_06],ignore_index=True)"
   ]
  },
  {
   "cell_type": "code",
   "execution_count": 30,
   "id": "dff7ccb7",
   "metadata": {},
   "outputs": [
    {
     "data": {
      "text/plain": [
       "mapillary_coverage\n",
       "regular    1476231\n",
       "pano        265933\n",
       "Name: count, dtype: int64"
      ]
     },
     "execution_count": 30,
     "metadata": {},
     "output_type": "execute_result"
    }
   ],
   "source": [
    "both_concat[\"mapillary_coverage\"].value_counts()"
   ]
  },
  {
   "cell_type": "code",
   "execution_count": null,
   "id": "45ad64fc",
   "metadata": {},
   "outputs": [],
   "source": [
    "## drop duplicates, keep pano\n",
    "both_concat = both_concat.sort_values(by=\"mapillary_coverage\", ascending=True).drop_duplicates(subset=\"osm_id\", keep=\"first\")"
   ]
  },
  {
   "cell_type": "code",
   "execution_count": 32,
   "id": "ba35adf1",
   "metadata": {},
   "outputs": [
    {
     "data": {
      "text/plain": [
       "mapillary_coverage\n",
       "regular    1210298\n",
       "pano        265933\n",
       "Name: count, dtype: int64"
      ]
     },
     "execution_count": 32,
     "metadata": {},
     "output_type": "execute_result"
    }
   ],
   "source": [
    "both_concat[\"mapillary_coverage\"].value_counts()"
   ]
  },
  {
   "cell_type": "code",
   "execution_count": 34,
   "id": "9bd74fb2",
   "metadata": {},
   "outputs": [
    {
     "data": {
      "text/plain": [
       "osm_id\n",
       "1375094702    1\n",
       "1978          1\n",
       "1079606439    1\n",
       "1079606440    1\n",
       "1079606441    1\n",
       "             ..\n",
       "1079629090    1\n",
       "1079632827    1\n",
       "1079632828    1\n",
       "1079632832    1\n",
       "1079606438    1\n",
       "Name: count, Length: 1476231, dtype: int64"
      ]
     },
     "execution_count": 34,
     "metadata": {},
     "output_type": "execute_result"
    }
   ],
   "source": [
    "both_concat[\"osm_id\"].value_counts()"
   ]
  },
  {
   "cell_type": "code",
   "execution_count": 37,
   "id": "a708ea43",
   "metadata": {},
   "outputs": [],
   "source": [
    "both_concat=both_concat[[\"osm_id\",\"mapillary_coverage\"]].copy()"
   ]
  },
  {
   "cell_type": "code",
   "execution_count": 39,
   "id": "49e9c382",
   "metadata": {},
   "outputs": [
    {
     "data": {
      "text/html": [
       "<div>\n",
       "<style scoped>\n",
       "    .dataframe tbody tr th:only-of-type {\n",
       "        vertical-align: middle;\n",
       "    }\n",
       "\n",
       "    .dataframe tbody tr th {\n",
       "        vertical-align: top;\n",
       "    }\n",
       "\n",
       "    .dataframe thead th {\n",
       "        text-align: right;\n",
       "    }\n",
       "</style>\n",
       "<table border=\"1\" class=\"dataframe\">\n",
       "  <thead>\n",
       "    <tr style=\"text-align: right;\">\n",
       "      <th></th>\n",
       "      <th>osm_id</th>\n",
       "      <th>mapillary_coverage</th>\n",
       "    </tr>\n",
       "  </thead>\n",
       "  <tbody>\n",
       "    <tr>\n",
       "      <th>0</th>\n",
       "      <td>1978</td>\n",
       "      <td>pano</td>\n",
       "    </tr>\n",
       "    <tr>\n",
       "      <th>177280</th>\n",
       "      <td>1079606439</td>\n",
       "      <td>pano</td>\n",
       "    </tr>\n",
       "    <tr>\n",
       "      <th>177281</th>\n",
       "      <td>1079606440</td>\n",
       "      <td>pano</td>\n",
       "    </tr>\n",
       "    <tr>\n",
       "      <th>177282</th>\n",
       "      <td>1079606441</td>\n",
       "      <td>pano</td>\n",
       "    </tr>\n",
       "    <tr>\n",
       "      <th>177283</th>\n",
       "      <td>1079606442</td>\n",
       "      <td>pano</td>\n",
       "    </tr>\n",
       "    <tr>\n",
       "      <th>...</th>\n",
       "      <td>...</td>\n",
       "      <td>...</td>\n",
       "    </tr>\n",
       "    <tr>\n",
       "      <th>758007</th>\n",
       "      <td>181567337</td>\n",
       "      <td>regular</td>\n",
       "    </tr>\n",
       "    <tr>\n",
       "      <th>758006</th>\n",
       "      <td>181567336</td>\n",
       "      <td>regular</td>\n",
       "    </tr>\n",
       "    <tr>\n",
       "      <th>758005</th>\n",
       "      <td>181567335</td>\n",
       "      <td>regular</td>\n",
       "    </tr>\n",
       "    <tr>\n",
       "      <th>758004</th>\n",
       "      <td>181567334</td>\n",
       "      <td>regular</td>\n",
       "    </tr>\n",
       "    <tr>\n",
       "      <th>1742163</th>\n",
       "      <td>1375094702</td>\n",
       "      <td>regular</td>\n",
       "    </tr>\n",
       "  </tbody>\n",
       "</table>\n",
       "<p>1476231 rows × 2 columns</p>\n",
       "</div>"
      ],
      "text/plain": [
       "             osm_id mapillary_coverage\n",
       "0              1978               pano\n",
       "177280   1079606439               pano\n",
       "177281   1079606440               pano\n",
       "177282   1079606441               pano\n",
       "177283   1079606442               pano\n",
       "...             ...                ...\n",
       "758007    181567337            regular\n",
       "758006    181567336            regular\n",
       "758005    181567335            regular\n",
       "758004    181567334            regular\n",
       "1742163  1375094702            regular\n",
       "\n",
       "[1476231 rows x 2 columns]"
      ]
     },
     "execution_count": 39,
     "metadata": {},
     "output_type": "execute_result"
    }
   ],
   "source": [
    "both_concat"
   ]
  },
  {
   "cell_type": "code",
   "execution_count": 41,
   "id": "f44ca298",
   "metadata": {},
   "outputs": [],
   "source": [
    "both_concat.to_csv(\"output/germany_osm-highways_25-04-05_mp_coverage_23-01-01until25-04-01_ratio_above_06.csv\",index=False)"
   ]
  },
  {
   "cell_type": "code",
   "execution_count": null,
   "id": "0c458ee0",
   "metadata": {},
   "outputs": [],
   "source": []
  }
 ],
 "metadata": {
  "kernelspec": {
   "display_name": "geo_amd_fast",
   "language": "python",
   "name": "python3"
  },
  "language_info": {
   "codemirror_mode": {
    "name": "ipython",
    "version": 3
   },
   "file_extension": ".py",
   "mimetype": "text/x-python",
   "name": "python",
   "nbconvert_exporter": "python",
   "pygments_lexer": "ipython3",
   "version": "3.12.10"
  }
 },
 "nbformat": 4,
 "nbformat_minor": 5
}
