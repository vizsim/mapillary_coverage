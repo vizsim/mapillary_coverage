{
 "cells": [
  {
   "cell_type": "code",
   "execution_count": null,
   "id": "9b23c48b",
   "metadata": {},
   "outputs": [],
   "source": [
    "## https://github.com/vizsim/mapillary_coverage/issues/1"
   ]
  },
  {
   "cell_type": "code",
   "execution_count": null,
   "id": "747747f5",
   "metadata": {},
   "outputs": [],
   "source": []
  },
  {
   "cell_type": "code",
   "execution_count": 42,
   "id": "cecd52c4",
   "metadata": {},
   "outputs": [],
   "source": [
    "import pandas as pd\n",
    "import geopandas as gpd\n",
    "# Read the Parquet files\n",
    "\n",
    "\n",
    "#gdf_mp_pano = pd.read_parquet(\"germany_osm-highways_25-04-05_mp_pano_coverage_23-01-01until25-04-01_ratio.parquet\")\n",
    "#gdf_mp_all = pd.read_parquet(\"germany_osm-highways_25-04-05_mp_all_coverage_23-01-01until25-04-01_ratio.parquet\")\n",
    "\n",
    "gdf_mp_pano = pd.read_parquet(\"germany_osm-highways_25-05-09_mp_pano_coverage_25-05-10_ratio.parquet\")\n",
    "gdf_mp_regular = pd.read_parquet(\"germany_osm-highways_25-05-09_mp_regular_coverage_25-05-10_ratio.parquet\")\n"
   ]
  },
  {
   "cell_type": "code",
   "execution_count": 43,
   "id": "8abf57e3",
   "metadata": {},
   "outputs": [],
   "source": [
    "gdf_mp_pano=gdf_mp_pano[[\"osm_id\",\"mp_coverage_ratio\"]].copy()"
   ]
  },
  {
   "cell_type": "code",
   "execution_count": 44,
   "id": "303523ac",
   "metadata": {},
   "outputs": [],
   "source": [
    "gdf_mp_pano_above_06=gdf_mp_pano[gdf_mp_pano[\"mp_coverage_ratio\"]>=0.6].copy()"
   ]
  },
  {
   "cell_type": "code",
   "execution_count": 45,
   "id": "fdf6e30d",
   "metadata": {},
   "outputs": [],
   "source": [
    "gdf_mp_pano_above_06[\"mapillary_coverage\"] = \"pano\""
   ]
  },
  {
   "cell_type": "code",
   "execution_count": 46,
   "id": "43b9c80f",
   "metadata": {},
   "outputs": [
    {
     "data": {
      "text/html": [
       "<div>\n",
       "<style scoped>\n",
       "    .dataframe tbody tr th:only-of-type {\n",
       "        vertical-align: middle;\n",
       "    }\n",
       "\n",
       "    .dataframe tbody tr th {\n",
       "        vertical-align: top;\n",
       "    }\n",
       "\n",
       "    .dataframe thead th {\n",
       "        text-align: right;\n",
       "    }\n",
       "</style>\n",
       "<table border=\"1\" class=\"dataframe\">\n",
       "  <thead>\n",
       "    <tr style=\"text-align: right;\">\n",
       "      <th></th>\n",
       "      <th>osm_id</th>\n",
       "      <th>mp_coverage_ratio</th>\n",
       "      <th>mapillary_coverage</th>\n",
       "    </tr>\n",
       "  </thead>\n",
       "  <tbody>\n",
       "    <tr>\n",
       "      <th>0</th>\n",
       "      <td>1978</td>\n",
       "      <td>1.00000</td>\n",
       "      <td>pano</td>\n",
       "    </tr>\n",
       "    <tr>\n",
       "      <th>4</th>\n",
       "      <td>2293021</td>\n",
       "      <td>1.00000</td>\n",
       "      <td>pano</td>\n",
       "    </tr>\n",
       "    <tr>\n",
       "      <th>9</th>\n",
       "      <td>2483295</td>\n",
       "      <td>0.65936</td>\n",
       "      <td>pano</td>\n",
       "    </tr>\n",
       "    <tr>\n",
       "      <th>10</th>\n",
       "      <td>2483296</td>\n",
       "      <td>1.00000</td>\n",
       "      <td>pano</td>\n",
       "    </tr>\n",
       "    <tr>\n",
       "      <th>17</th>\n",
       "      <td>2597457</td>\n",
       "      <td>0.97025</td>\n",
       "      <td>pano</td>\n",
       "    </tr>\n",
       "    <tr>\n",
       "      <th>...</th>\n",
       "      <td>...</td>\n",
       "      <td>...</td>\n",
       "      <td>...</td>\n",
       "    </tr>\n",
       "    <tr>\n",
       "      <th>527061</th>\n",
       "      <td>1385144772</td>\n",
       "      <td>1.00000</td>\n",
       "      <td>pano</td>\n",
       "    </tr>\n",
       "    <tr>\n",
       "      <th>527062</th>\n",
       "      <td>1385144773</td>\n",
       "      <td>1.00000</td>\n",
       "      <td>pano</td>\n",
       "    </tr>\n",
       "    <tr>\n",
       "      <th>527066</th>\n",
       "      <td>1385149711</td>\n",
       "      <td>1.00000</td>\n",
       "      <td>pano</td>\n",
       "    </tr>\n",
       "    <tr>\n",
       "      <th>527067</th>\n",
       "      <td>1385149712</td>\n",
       "      <td>1.00000</td>\n",
       "      <td>pano</td>\n",
       "    </tr>\n",
       "    <tr>\n",
       "      <th>527068</th>\n",
       "      <td>1385149713</td>\n",
       "      <td>1.00000</td>\n",
       "      <td>pano</td>\n",
       "    </tr>\n",
       "  </tbody>\n",
       "</table>\n",
       "<p>295806 rows × 3 columns</p>\n",
       "</div>"
      ],
      "text/plain": [
       "            osm_id  mp_coverage_ratio mapillary_coverage\n",
       "0             1978            1.00000               pano\n",
       "4          2293021            1.00000               pano\n",
       "9          2483295            0.65936               pano\n",
       "10         2483296            1.00000               pano\n",
       "17         2597457            0.97025               pano\n",
       "...            ...                ...                ...\n",
       "527061  1385144772            1.00000               pano\n",
       "527062  1385144773            1.00000               pano\n",
       "527066  1385149711            1.00000               pano\n",
       "527067  1385149712            1.00000               pano\n",
       "527068  1385149713            1.00000               pano\n",
       "\n",
       "[295806 rows x 3 columns]"
      ]
     },
     "execution_count": 46,
     "metadata": {},
     "output_type": "execute_result"
    }
   ],
   "source": [
    "gdf_mp_pano_above_06"
   ]
  },
  {
   "cell_type": "code",
   "execution_count": null,
   "id": "d96cf552",
   "metadata": {},
   "outputs": [],
   "source": []
  },
  {
   "cell_type": "code",
   "execution_count": 47,
   "id": "0b476455",
   "metadata": {},
   "outputs": [],
   "source": [
    "gdf_mp_regular=gdf_mp_regular[[\"osm_id\",\"mp_coverage_ratio\"]].copy()"
   ]
  },
  {
   "cell_type": "code",
   "execution_count": 48,
   "id": "de934492",
   "metadata": {},
   "outputs": [],
   "source": [
    "gdf_mp_regular_above_06=gdf_mp_regular[gdf_mp_regular[\"mp_coverage_ratio\"]>=0.6].copy()"
   ]
  },
  {
   "cell_type": "code",
   "execution_count": 49,
   "id": "e28be5fe",
   "metadata": {},
   "outputs": [
    {
     "data": {
      "text/html": [
       "<div>\n",
       "<style scoped>\n",
       "    .dataframe tbody tr th:only-of-type {\n",
       "        vertical-align: middle;\n",
       "    }\n",
       "\n",
       "    .dataframe tbody tr th {\n",
       "        vertical-align: top;\n",
       "    }\n",
       "\n",
       "    .dataframe thead th {\n",
       "        text-align: right;\n",
       "    }\n",
       "</style>\n",
       "<table border=\"1\" class=\"dataframe\">\n",
       "  <thead>\n",
       "    <tr style=\"text-align: right;\">\n",
       "      <th></th>\n",
       "      <th>osm_id</th>\n",
       "      <th>mp_coverage_ratio</th>\n",
       "    </tr>\n",
       "  </thead>\n",
       "  <tbody>\n",
       "    <tr>\n",
       "      <th>2</th>\n",
       "      <td>104</td>\n",
       "      <td>1.000000</td>\n",
       "    </tr>\n",
       "    <tr>\n",
       "      <th>6</th>\n",
       "      <td>111</td>\n",
       "      <td>1.000000</td>\n",
       "    </tr>\n",
       "    <tr>\n",
       "      <th>7</th>\n",
       "      <td>117</td>\n",
       "      <td>1.000000</td>\n",
       "    </tr>\n",
       "    <tr>\n",
       "      <th>8</th>\n",
       "      <td>122</td>\n",
       "      <td>1.000000</td>\n",
       "    </tr>\n",
       "    <tr>\n",
       "      <th>9</th>\n",
       "      <td>123</td>\n",
       "      <td>0.874366</td>\n",
       "    </tr>\n",
       "    <tr>\n",
       "      <th>...</th>\n",
       "      <td>...</td>\n",
       "      <td>...</td>\n",
       "    </tr>\n",
       "    <tr>\n",
       "      <th>2507132</th>\n",
       "      <td>1385153162</td>\n",
       "      <td>0.993251</td>\n",
       "    </tr>\n",
       "    <tr>\n",
       "      <th>2507135</th>\n",
       "      <td>1385154522</td>\n",
       "      <td>1.000000</td>\n",
       "    </tr>\n",
       "    <tr>\n",
       "      <th>2507136</th>\n",
       "      <td>1385154590</td>\n",
       "      <td>0.868189</td>\n",
       "    </tr>\n",
       "    <tr>\n",
       "      <th>2507137</th>\n",
       "      <td>1385157322</td>\n",
       "      <td>1.000000</td>\n",
       "    </tr>\n",
       "    <tr>\n",
       "      <th>2507138</th>\n",
       "      <td>1385157323</td>\n",
       "      <td>1.000000</td>\n",
       "    </tr>\n",
       "  </tbody>\n",
       "</table>\n",
       "<p>1353914 rows × 2 columns</p>\n",
       "</div>"
      ],
      "text/plain": [
       "             osm_id  mp_coverage_ratio\n",
       "2               104           1.000000\n",
       "6               111           1.000000\n",
       "7               117           1.000000\n",
       "8               122           1.000000\n",
       "9               123           0.874366\n",
       "...             ...                ...\n",
       "2507132  1385153162           0.993251\n",
       "2507135  1385154522           1.000000\n",
       "2507136  1385154590           0.868189\n",
       "2507137  1385157322           1.000000\n",
       "2507138  1385157323           1.000000\n",
       "\n",
       "[1353914 rows x 2 columns]"
      ]
     },
     "execution_count": 49,
     "metadata": {},
     "output_type": "execute_result"
    }
   ],
   "source": [
    "gdf_mp_regular_above_06"
   ]
  },
  {
   "cell_type": "code",
   "execution_count": 50,
   "id": "e0e9335f",
   "metadata": {},
   "outputs": [],
   "source": [
    "gdf_mp_regular_above_06[\"mapillary_coverage\"] = \"regular\""
   ]
  },
  {
   "cell_type": "code",
   "execution_count": 51,
   "id": "6ec06a90",
   "metadata": {},
   "outputs": [],
   "source": [
    "both_concat=pd.concat([gdf_mp_pano_above_06,gdf_mp_regular_above_06],ignore_index=True)"
   ]
  },
  {
   "cell_type": "code",
   "execution_count": 52,
   "id": "730af067",
   "metadata": {},
   "outputs": [
    {
     "data": {
      "text/plain": [
       "mapillary_coverage\n",
       "regular    1353914\n",
       "pano        295806\n",
       "Name: count, dtype: int64"
      ]
     },
     "execution_count": 52,
     "metadata": {},
     "output_type": "execute_result"
    }
   ],
   "source": [
    "both_concat[\"mapillary_coverage\"].value_counts()"
   ]
  },
  {
   "cell_type": "code",
   "execution_count": 30,
   "id": "dff7ccb7",
   "metadata": {},
   "outputs": [
    {
     "data": {
      "text/plain": [
       "mapillary_coverage\n",
       "regular    1476231\n",
       "pano        265933\n",
       "Name: count, dtype: int64"
      ]
     },
     "execution_count": 30,
     "metadata": {},
     "output_type": "execute_result"
    }
   ],
   "source": [
    "both_concat[\"mapillary_coverage\"].value_counts()"
   ]
  },
  {
   "cell_type": "code",
   "execution_count": 53,
   "id": "45ad64fc",
   "metadata": {},
   "outputs": [],
   "source": [
    "## drop duplicates, keep pano\n",
    "both_concat = both_concat.sort_values(by=\"mapillary_coverage\", ascending=True).drop_duplicates(subset=\"osm_id\", keep=\"first\")"
   ]
  },
  {
   "cell_type": "code",
   "execution_count": 54,
   "id": "ba35adf1",
   "metadata": {},
   "outputs": [
    {
     "data": {
      "text/plain": [
       "mapillary_coverage\n",
       "regular    1241698\n",
       "pano        295806\n",
       "Name: count, dtype: int64"
      ]
     },
     "execution_count": 54,
     "metadata": {},
     "output_type": "execute_result"
    }
   ],
   "source": [
    "both_concat[\"mapillary_coverage\"].value_counts()"
   ]
  },
  {
   "cell_type": "code",
   "execution_count": 55,
   "id": "9bd74fb2",
   "metadata": {},
   "outputs": [
    {
     "data": {
      "text/plain": [
       "osm_id\n",
       "177643587     1\n",
       "177636568     1\n",
       "177636567     1\n",
       "177632296     1\n",
       "177629008     1\n",
       "             ..\n",
       "1070048986    1\n",
       "1070048984    1\n",
       "1070048983    1\n",
       "1070048982    1\n",
       "1070048990    1\n",
       "Name: count, Length: 1537504, dtype: int64"
      ]
     },
     "execution_count": 55,
     "metadata": {},
     "output_type": "execute_result"
    }
   ],
   "source": [
    "both_concat[\"osm_id\"].value_counts()"
   ]
  },
  {
   "cell_type": "code",
   "execution_count": 56,
   "id": "a708ea43",
   "metadata": {},
   "outputs": [],
   "source": [
    "both_concat=both_concat[[\"osm_id\",\"mapillary_coverage\"]].copy()"
   ]
  },
  {
   "cell_type": "code",
   "execution_count": 57,
   "id": "49e9c382",
   "metadata": {},
   "outputs": [
    {
     "data": {
      "text/html": [
       "<div>\n",
       "<style scoped>\n",
       "    .dataframe tbody tr th:only-of-type {\n",
       "        vertical-align: middle;\n",
       "    }\n",
       "\n",
       "    .dataframe tbody tr th {\n",
       "        vertical-align: top;\n",
       "    }\n",
       "\n",
       "    .dataframe thead th {\n",
       "        text-align: right;\n",
       "    }\n",
       "</style>\n",
       "<table border=\"1\" class=\"dataframe\">\n",
       "  <thead>\n",
       "    <tr style=\"text-align: right;\">\n",
       "      <th></th>\n",
       "      <th>osm_id</th>\n",
       "      <th>mapillary_coverage</th>\n",
       "    </tr>\n",
       "  </thead>\n",
       "  <tbody>\n",
       "    <tr>\n",
       "      <th>0</th>\n",
       "      <td>1978</td>\n",
       "      <td>pano</td>\n",
       "    </tr>\n",
       "    <tr>\n",
       "      <th>197207</th>\n",
       "      <td>1070048989</td>\n",
       "      <td>pano</td>\n",
       "    </tr>\n",
       "    <tr>\n",
       "      <th>197206</th>\n",
       "      <td>1070048988</td>\n",
       "      <td>pano</td>\n",
       "    </tr>\n",
       "    <tr>\n",
       "      <th>197205</th>\n",
       "      <td>1070048986</td>\n",
       "      <td>pano</td>\n",
       "    </tr>\n",
       "    <tr>\n",
       "      <th>197204</th>\n",
       "      <td>1070048984</td>\n",
       "      <td>pano</td>\n",
       "    </tr>\n",
       "    <tr>\n",
       "      <th>...</th>\n",
       "      <td>...</td>\n",
       "      <td>...</td>\n",
       "    </tr>\n",
       "    <tr>\n",
       "      <th>747108</th>\n",
       "      <td>177647549</td>\n",
       "      <td>regular</td>\n",
       "    </tr>\n",
       "    <tr>\n",
       "      <th>747107</th>\n",
       "      <td>177647275</td>\n",
       "      <td>regular</td>\n",
       "    </tr>\n",
       "    <tr>\n",
       "      <th>747106</th>\n",
       "      <td>177645545</td>\n",
       "      <td>regular</td>\n",
       "    </tr>\n",
       "    <tr>\n",
       "      <th>747104</th>\n",
       "      <td>177645063</td>\n",
       "      <td>regular</td>\n",
       "    </tr>\n",
       "    <tr>\n",
       "      <th>1649719</th>\n",
       "      <td>1385157323</td>\n",
       "      <td>regular</td>\n",
       "    </tr>\n",
       "  </tbody>\n",
       "</table>\n",
       "<p>1537504 rows × 2 columns</p>\n",
       "</div>"
      ],
      "text/plain": [
       "             osm_id mapillary_coverage\n",
       "0              1978               pano\n",
       "197207   1070048989               pano\n",
       "197206   1070048988               pano\n",
       "197205   1070048986               pano\n",
       "197204   1070048984               pano\n",
       "...             ...                ...\n",
       "747108    177647549            regular\n",
       "747107    177647275            regular\n",
       "747106    177645545            regular\n",
       "747104    177645063            regular\n",
       "1649719  1385157323            regular\n",
       "\n",
       "[1537504 rows x 2 columns]"
      ]
     },
     "execution_count": 57,
     "metadata": {},
     "output_type": "execute_result"
    }
   ],
   "source": [
    "both_concat"
   ]
  },
  {
   "cell_type": "code",
   "execution_count": 58,
   "id": "f44ca298",
   "metadata": {},
   "outputs": [],
   "source": [
    "both_concat.to_csv(\"output/germany_osm-highways_25-05-09_mp_coverage_23-01-01until25-05-10_ratio_above_06.csv\",index=False)"
   ]
  },
  {
   "cell_type": "code",
   "execution_count": null,
   "id": "0c458ee0",
   "metadata": {},
   "outputs": [],
   "source": [
    "#"
   ]
  }
 ],
 "metadata": {
  "kernelspec": {
   "display_name": "geo_amd_fast",
   "language": "python",
   "name": "python3"
  },
  "language_info": {
   "codemirror_mode": {
    "name": "ipython",
    "version": 3
   },
   "file_extension": ".py",
   "mimetype": "text/x-python",
   "name": "python",
   "nbconvert_exporter": "python",
   "pygments_lexer": "ipython3",
   "version": "3.12.10"
  }
 },
 "nbformat": 4,
 "nbformat_minor": 5
}
