{
 "cells": [
  {
   "cell_type": "code",
   "execution_count": 10,
   "metadata": {},
   "outputs": [],
   "source": [
    "import mercantile\n",
    "import requests\n",
    "from vt2geojson.tools import vt_bytes_to_geojson\n",
    "import geopandas as gpd\n",
    "import pandas as pd\n",
    "\n",
    "from shapely.geometry import shape\n",
    "\n",
    "\n",
    "from osm2geojson import json2geojson\n",
    "\n",
    "\n",
    "import logging\n",
    "from datetime import datetime, timezone\n",
    "from tqdm import tqdm\n",
    "import json\n"
   ]
  },
  {
   "cell_type": "code",
   "execution_count": null,
   "metadata": {},
   "outputs": [],
   "source": []
  },
  {
   "cell_type": "code",
   "execution_count": 11,
   "metadata": {},
   "outputs": [],
   "source": [
    "### Testing smaller area: Wildau"
   ]
  },
  {
   "cell_type": "code",
   "execution_count": 12,
   "metadata": {},
   "outputs": [
    {
     "data": {
      "text/html": [
       "<div>\n",
       "<style scoped>\n",
       "    .dataframe tbody tr th:only-of-type {\n",
       "        vertical-align: middle;\n",
       "    }\n",
       "\n",
       "    .dataframe tbody tr th {\n",
       "        vertical-align: top;\n",
       "    }\n",
       "\n",
       "    .dataframe thead th {\n",
       "        text-align: right;\n",
       "    }\n",
       "</style>\n",
       "<table border=\"1\" class=\"dataframe\">\n",
       "  <thead>\n",
       "    <tr style=\"text-align: right;\">\n",
       "      <th></th>\n",
       "      <th>geometry</th>\n",
       "      <th>type</th>\n",
       "      <th>id</th>\n",
       "      <th>tags</th>\n",
       "    </tr>\n",
       "  </thead>\n",
       "  <tbody>\n",
       "    <tr>\n",
       "      <th>0</th>\n",
       "      <td>MULTIPOLYGON (((13.56302 52.34968, 13.5617 52....</td>\n",
       "      <td>relation</td>\n",
       "      <td>55775</td>\n",
       "      <td>{'TMC:cid_58:tabcd_1:Class': 'Area', 'TMC:cid_...</td>\n",
       "    </tr>\n",
       "    <tr>\n",
       "      <th>1</th>\n",
       "      <td>MULTIPOLYGON (((13.58977 52.32068, 13.59294 52...</td>\n",
       "      <td>relation</td>\n",
       "      <td>55776</td>\n",
       "      <td>{'TMC:cid_58:tabcd_1:Class': 'Area', 'TMC:cid_...</td>\n",
       "    </tr>\n",
       "    <tr>\n",
       "      <th>2</th>\n",
       "      <td>POINT (13.62933 52.3508)</td>\n",
       "      <td>node</td>\n",
       "      <td>59143941</td>\n",
       "      <td>NaN</td>\n",
       "    </tr>\n",
       "    <tr>\n",
       "      <th>3</th>\n",
       "      <td>POINT (13.63487 52.32144)</td>\n",
       "      <td>node</td>\n",
       "      <td>240111082</td>\n",
       "      <td>NaN</td>\n",
       "    </tr>\n",
       "  </tbody>\n",
       "</table>\n",
       "</div>"
      ],
      "text/plain": [
       "                                            geometry      type         id  \\\n",
       "0  MULTIPOLYGON (((13.56302 52.34968, 13.5617 52....  relation      55775   \n",
       "1  MULTIPOLYGON (((13.58977 52.32068, 13.59294 52...  relation      55776   \n",
       "2                           POINT (13.62933 52.3508)      node   59143941   \n",
       "3                          POINT (13.63487 52.32144)      node  240111082   \n",
       "\n",
       "                                                tags  \n",
       "0  {'TMC:cid_58:tabcd_1:Class': 'Area', 'TMC:cid_...  \n",
       "1  {'TMC:cid_58:tabcd_1:Class': 'Area', 'TMC:cid_...  \n",
       "2                                                NaN  \n",
       "3                                                NaN  "
      ]
     },
     "execution_count": 12,
     "metadata": {},
     "output_type": "execute_result"
    }
   ],
   "source": [
    "\n",
    "#{{geocodeArea:\"Wildau\"}}->.searchArea;\n",
    "query = \"\"\"\n",
    "[out:json][timeout:25];\n",
    "\n",
    "area[\"name\"=\"Wildau\"][admin_level=8]->.searchArea;\n",
    "\n",
    "(\n",
    "  relation[\"boundary\"=\"administrative\"](area.searchArea);\n",
    ");\n",
    "\n",
    "out body;\n",
    ">;\n",
    "out skel qt;\n",
    "\"\"\"\n",
    "\n",
    "\n",
    "\n",
    "# Send request\n",
    "url = \"http://overpass-api.de/api/interpreter\"\n",
    "r = requests.get(url, params={'data': query})\n",
    "\n",
    "# Convert to GeoJSON\n",
    "res_geojson = json2geojson(r.json())\n",
    "\n",
    "# Load as GeoDataFrame\n",
    "admin_boundary = gpd.GeoDataFrame.from_features(res_geojson, crs=\"EPSG:4326\")\n",
    "admin_boundary"
   ]
  },
  {
   "cell_type": "code",
   "execution_count": 15,
   "metadata": {},
   "outputs": [
    {
     "data": {
      "text/plain": [
       "16"
      ]
     },
     "execution_count": 15,
     "metadata": {},
     "output_type": "execute_result"
    }
   ],
   "source": [
    "# Get the bounds of the polygon\n",
    "polygon = admin_boundary[admin_boundary[\"id\"] == 55776].geometry.iloc[0]\n",
    "minx, miny, maxx, maxy = polygon.bounds\n",
    "\n",
    "# === Define bounding box (Berlin or any area) ===\n",
    "bbox = [minx, miny, maxx, maxy]  # must be defined earlier\n",
    "\n",
    "# === Get intersecting tiles at zoom 14 ===\n",
    "tiles = list(mercantile.tiles(*bbox, zooms=[14]))\n",
    "total_tiles = len(tiles)\n",
    "\n",
    "total_tiles"
   ]
  },
  {
   "cell_type": "markdown",
   "metadata": {},
   "source": [
    "### Brandneburg"
   ]
  },
  {
   "cell_type": "code",
   "execution_count": 17,
   "metadata": {},
   "outputs": [
    {
     "data": {
      "text/html": [
       "<div>\n",
       "<style scoped>\n",
       "    .dataframe tbody tr th:only-of-type {\n",
       "        vertical-align: middle;\n",
       "    }\n",
       "\n",
       "    .dataframe tbody tr th {\n",
       "        vertical-align: top;\n",
       "    }\n",
       "\n",
       "    .dataframe thead th {\n",
       "        text-align: right;\n",
       "    }\n",
       "</style>\n",
       "<table border=\"1\" class=\"dataframe\">\n",
       "  <thead>\n",
       "    <tr style=\"text-align: right;\">\n",
       "      <th></th>\n",
       "      <th>geometry</th>\n",
       "      <th>type</th>\n",
       "      <th>id</th>\n",
       "      <th>tags</th>\n",
       "    </tr>\n",
       "  </thead>\n",
       "  <tbody>\n",
       "    <tr>\n",
       "      <th>0</th>\n",
       "      <td>MULTIPOLYGON (((11.27106 53.12183, 11.26953 53...</td>\n",
       "      <td>relation</td>\n",
       "      <td>62504</td>\n",
       "      <td>{'ISO3166-2': 'DE-BB', 'TMC:cid_58:tabcd_1:Cla...</td>\n",
       "    </tr>\n",
       "    <tr>\n",
       "      <th>1</th>\n",
       "      <td>POINT (13.05914 52.40093)</td>\n",
       "      <td>node</td>\n",
       "      <td>1695218178</td>\n",
       "      <td>NaN</td>\n",
       "    </tr>\n",
       "    <tr>\n",
       "      <th>2</th>\n",
       "      <td>POINT (13.24613 52.84555)</td>\n",
       "      <td>node</td>\n",
       "      <td>473862587</td>\n",
       "      <td>NaN</td>\n",
       "    </tr>\n",
       "  </tbody>\n",
       "</table>\n",
       "</div>"
      ],
      "text/plain": [
       "                                            geometry      type          id  \\\n",
       "0  MULTIPOLYGON (((11.27106 53.12183, 11.26953 53...  relation       62504   \n",
       "1                          POINT (13.05914 52.40093)      node  1695218178   \n",
       "2                          POINT (13.24613 52.84555)      node   473862587   \n",
       "\n",
       "                                                tags  \n",
       "0  {'ISO3166-2': 'DE-BB', 'TMC:cid_58:tabcd_1:Cla...  \n",
       "1                                                NaN  \n",
       "2                                                NaN  "
      ]
     },
     "execution_count": 17,
     "metadata": {},
     "output_type": "execute_result"
    }
   ],
   "source": [
    "#{{geocodeArea:\"Brandenburg\"}}->.searchArea;\n",
    "query = \"\"\"\n",
    "[out:json][timeout:25];\n",
    "\n",
    "area[\"name\"=\"Brandenburg\"][admin_level=4]->.searchArea;\n",
    "\n",
    "(\n",
    "    relation[\"boundary\"=\"administrative\"][admin_level=4][\"ISO3166-2\"=\"DE-BB\"](area.searchArea);\n",
    ");\n",
    "\n",
    "out body;\n",
    ">;\n",
    "out skel qt;\n",
    "\"\"\"\n",
    "\n",
    "# Send request\n",
    "url = \"http://overpass-api.de/api/interpreter\"\n",
    "r = requests.get(url, params={'data': query})\n",
    "\n",
    "# Convert to GeoJSON\n",
    "res_geojson = json2geojson(r.json())\n",
    "\n",
    "# Load as GeoDataFrame\n",
    "admin_boundary = gpd.GeoDataFrame.from_features(res_geojson, crs=\"EPSG:4326\")\n",
    "admin_boundary\n"
   ]
  },
  {
   "cell_type": "code",
   "execution_count": 18,
   "metadata": {},
   "outputs": [
    {
     "data": {
      "text/plain": [
       "26565"
      ]
     },
     "execution_count": 18,
     "metadata": {},
     "output_type": "execute_result"
    }
   ],
   "source": [
    "# Get the bounds of the polygon\n",
    "polygon = admin_boundary[admin_boundary[\"id\"] == 62504].geometry.iloc[0]\n",
    "minx, miny, maxx, maxy = polygon.bounds\n",
    "\n",
    "# === Define bounding box (Berlin or any area) ===\n",
    "bbox = [minx, miny, maxx, maxy]  # must be defined earlier\n",
    "\n",
    "# === Get intersecting tiles at zoom 14 ===\n",
    "tiles = list(mercantile.tiles(*bbox, zooms=[14]))\n",
    "total_tiles = len(tiles)\n",
    "\n",
    "total_tiles\n"
   ]
  },
  {
   "cell_type": "code",
   "execution_count": null,
   "metadata": {},
   "outputs": [
    {
     "name": "stderr",
     "output_type": "stream",
     "text": [
      "Processing tiles: 100%|██████████| 26565/26565 [2:35:18<00:00,  2.85it/s]   \n"
     ]
    }
   ],
   "source": [
    "## Brandenburg apporx 25k tiles takes ~3h\n",
    "\n",
    "# Set up logging\n",
    "logging.basicConfig(\n",
    "    filename=\"tile_processing.log\",\n",
    "    level=logging.INFO,\n",
    "    format=\"%(asctime)s - %(levelname)s - %(message)s\",\n",
    "    datefmt=\"%Y-%m-%d %H:%M:%S\"\n",
    ")\n",
    "\n",
    "# === Set up ===\n",
    "tile_layer = \"sequence\"  # or 'image' for points\n",
    "tile_coverage = \"mly1_computed_public\"\n",
    "\n",
    "\n",
    "# Access the token\n",
    "# Load the JSON config\n",
    "with open('config.json') as f:\n",
    "    config = json.load(f)\n",
    "ACCESS_TOKEN = config.get(\"ACCESS_TOKEN\")\n",
    "\n",
    "# === Get intersecting tiles at zoom 14 ===\n",
    "tiles = list(mercantile.tiles(*bbox, zooms=[14]))\n",
    "total_tiles = len(tiles)\n",
    "logging.info(f\"Total number of tiles to process: {total_tiles}\")\n",
    "\n",
    "\n",
    "# === Collect all features into one GeoDataFrame\n",
    "gdf_all = gpd.GeoDataFrame(columns=[\"geometry\"], crs=\"EPSG:4326\")\n",
    "\n",
    "#for i, tile in enumerate(tqdm(tiles[:5], desc=\"Processing tiles\"), start=1):  # or all tiles\n",
    "for i, tile in enumerate(tqdm(tiles, desc=\"Processing tiles\"), start=1):  # or all tiles\n",
    "    logging.info(f\"Processing tile {i}/{total_tiles}: {tile.z}/{tile.x}/{tile.y}...\")\n",
    "    url = f\"https://tiles.mapillary.com/maps/vtp/{tile_coverage}/2/{tile.z}/{tile.x}/{tile.y}?access_token={ACCESS_TOKEN}\"\n",
    "    response = requests.get(url)\n",
    "    \n",
    "    if response.status_code != 200:\n",
    "        logging.warning(f\"Error fetching tile {tile.x}/{tile.y}: {response.status_code}\")\n",
    "        continue\n",
    "\n",
    "    try:\n",
    "        # Decode tile into GeoJSON format\n",
    "        geojson = vt_bytes_to_geojson(response.content, tile.x, tile.y, tile.z, layer=tile_layer)\n",
    "        features = geojson.get(\"features\", [])\n",
    "\n",
    "        if not features:\n",
    "            logging.info(f\"No features found in tile {tile.x}/{tile.y}.\")\n",
    "            continue\n",
    "\n",
    "        # Convert to GeoDataFrame\n",
    "        gdf_tile = gpd.GeoDataFrame.from_features(features, crs=\"EPSG:4326\")\n",
    "\n",
    "        gdf_tile['captured_at'] = gdf_tile['captured_at'].apply(lambda x: datetime.fromtimestamp(x / 1000, tz=timezone.utc))\n",
    "        gdf_tile = gdf_tile[gdf_tile['captured_at'] >= datetime(2023, 1, 1, tzinfo=timezone.utc)]\n",
    "        gdf_tile['captured_at'] = gdf_tile['captured_at'].dt.strftime('%Y-%m-%d')\n",
    "\n",
    "        if len(gdf_tile) == 0:\n",
    "            logging.info(f\"No features newer than 2023 in tile {tile.x}/{tile.y}.\")\n",
    "            continue\n",
    "        \n",
    "        # Append to master dataframe using concat for better performance with many tiles\n",
    "        gdf_all = gpd.GeoDataFrame(pd.concat([gdf_all, gdf_tile], ignore_index=True), crs=\"EPSG:4326\")\n",
    "\n",
    "    except Exception as e:\n",
    "        logging.error(f\"Error decoding tile {tile.x}/{tile.y}: {e}\")\n",
    "        break\n",
    "\n",
    "logging.info(f\"✅ Done. Collected {len(gdf_all)} features.\")\n",
    "\n",
    "# Save the collected GeoDataFrame to a Parquet file\n",
    "\n",
    "# Get current date in YYYY-MM-DD format\n",
    "current_date = datetime.now().strftime('%Y-%m-%d')\n",
    "\n",
    "# Add date to filename\n",
    "filename = f\"mapillary_coverage_23_bb_{current_date}.parquet\"\n",
    "\n",
    "# Save with the new filename\n",
    "gdf_all.to_parquet(filename, index=False)\n",
    "logging.info(f\"Saved data to {filename}\")"
   ]
  }
 ],
 "metadata": {
  "kernelspec": {
   "display_name": "tempo30_new",
   "language": "python",
   "name": "python3"
  },
  "language_info": {
   "codemirror_mode": {
    "name": "ipython",
    "version": 3
   },
   "file_extension": ".py",
   "mimetype": "text/x-python",
   "name": "python",
   "nbconvert_exporter": "python",
   "pygments_lexer": "ipython3",
   "version": "3.12.9"
  }
 },
 "nbformat": 4,
 "nbformat_minor": 2
}
